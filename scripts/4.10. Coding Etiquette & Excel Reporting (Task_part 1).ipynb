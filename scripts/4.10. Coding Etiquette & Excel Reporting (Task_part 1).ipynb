{
 "cells": [
  {
   "cell_type": "markdown",
   "id": "0429d49e",
   "metadata": {},
   "source": [
    "# Task 4.10 Part 1"
   ]
  },
  {
   "cell_type": "code",
   "execution_count": 1,
   "id": "45977da9",
   "metadata": {},
   "outputs": [],
   "source": [
    "# Importing libraries\n",
    "import pandas as pd\n",
    "import numpy as np\n",
    "import os\n",
    "import matplotlib.pyplot as plt\n",
    "import seaborn as sns\n",
    "import scipy"
   ]
  },
  {
   "cell_type": "markdown",
   "id": "b2f5c5e9",
   "metadata": {},
   "source": [
    "## Setting path"
   ]
  },
  {
   "cell_type": "code",
   "execution_count": 4,
   "id": "641cc121",
   "metadata": {},
   "outputs": [],
   "source": [
    "# Defining a path\n",
    "path = r'/Users/hectorvargas/Desktop/Career_Foundry/11-2022 Instacart Basket Analysis'"
   ]
  },
  {
   "cell_type": "markdown",
   "id": "ada76cad",
   "metadata": {},
   "source": [
    "## Importing customer dataframe (final_data)"
   ]
  },
  {
   "cell_type": "code",
   "execution_count": 5,
   "id": "e61a186c",
   "metadata": {},
   "outputs": [
    {
     "ename": "FileNotFoundError",
     "evalue": "[Errno 2] No such file or directory: '/Users/hectorvargas/Desktop/Career_Foundry/11-2022 Instacart Basket Analysis/02 Data/Prepared Data/final_merged.pkl'",
     "output_type": "error",
     "traceback": [
      "\u001b[0;31m---------------------------------------------------------------------------\u001b[0m",
      "\u001b[0;31mFileNotFoundError\u001b[0m                         Traceback (most recent call last)",
      "\u001b[0;32m/var/folders/lp/xpk9x_2d0ys74t69nxfgqd700000gp/T/ipykernel_4130/3262764107.py\u001b[0m in \u001b[0;36m<module>\u001b[0;34m\u001b[0m\n\u001b[1;32m      1\u001b[0m \u001b[0;31m# Importing data\u001b[0m\u001b[0;34m\u001b[0m\u001b[0;34m\u001b[0m\u001b[0m\n\u001b[0;32m----> 2\u001b[0;31m \u001b[0mfinal_data\u001b[0m \u001b[0;34m=\u001b[0m \u001b[0mpd\u001b[0m\u001b[0;34m.\u001b[0m\u001b[0mread_pickle\u001b[0m\u001b[0;34m(\u001b[0m\u001b[0mos\u001b[0m\u001b[0;34m.\u001b[0m\u001b[0mpath\u001b[0m\u001b[0;34m.\u001b[0m\u001b[0mjoin\u001b[0m\u001b[0;34m(\u001b[0m\u001b[0mpath\u001b[0m\u001b[0;34m,\u001b[0m \u001b[0;34m'02 Data'\u001b[0m\u001b[0;34m,\u001b[0m\u001b[0;34m'Prepared Data'\u001b[0m\u001b[0;34m,\u001b[0m \u001b[0;34m'final_merged.pkl'\u001b[0m\u001b[0;34m)\u001b[0m\u001b[0;34m)\u001b[0m\u001b[0;34m\u001b[0m\u001b[0;34m\u001b[0m\u001b[0m\n\u001b[0m",
      "\u001b[0;32m~/opt/anaconda3/lib/python3.9/site-packages/pandas/io/pickle.py\u001b[0m in \u001b[0;36mread_pickle\u001b[0;34m(filepath_or_buffer, compression, storage_options)\u001b[0m\n\u001b[1;32m    185\u001b[0m     \"\"\"  # noqa: E501\n\u001b[1;32m    186\u001b[0m     \u001b[0mexcs_to_catch\u001b[0m \u001b[0;34m=\u001b[0m \u001b[0;34m(\u001b[0m\u001b[0mAttributeError\u001b[0m\u001b[0;34m,\u001b[0m \u001b[0mImportError\u001b[0m\u001b[0;34m,\u001b[0m \u001b[0mModuleNotFoundError\u001b[0m\u001b[0;34m,\u001b[0m \u001b[0mTypeError\u001b[0m\u001b[0;34m)\u001b[0m\u001b[0;34m\u001b[0m\u001b[0;34m\u001b[0m\u001b[0m\n\u001b[0;32m--> 187\u001b[0;31m     with get_handle(\n\u001b[0m\u001b[1;32m    188\u001b[0m         \u001b[0mfilepath_or_buffer\u001b[0m\u001b[0;34m,\u001b[0m\u001b[0;34m\u001b[0m\u001b[0;34m\u001b[0m\u001b[0m\n\u001b[1;32m    189\u001b[0m         \u001b[0;34m\"rb\"\u001b[0m\u001b[0;34m,\u001b[0m\u001b[0;34m\u001b[0m\u001b[0;34m\u001b[0m\u001b[0m\n",
      "\u001b[0;32m~/opt/anaconda3/lib/python3.9/site-packages/pandas/io/common.py\u001b[0m in \u001b[0;36mget_handle\u001b[0;34m(path_or_buf, mode, encoding, compression, memory_map, is_text, errors, storage_options)\u001b[0m\n\u001b[1;32m    793\u001b[0m         \u001b[0;32melse\u001b[0m\u001b[0;34m:\u001b[0m\u001b[0;34m\u001b[0m\u001b[0;34m\u001b[0m\u001b[0m\n\u001b[1;32m    794\u001b[0m             \u001b[0;31m# Binary mode\u001b[0m\u001b[0;34m\u001b[0m\u001b[0;34m\u001b[0m\u001b[0m\n\u001b[0;32m--> 795\u001b[0;31m             \u001b[0mhandle\u001b[0m \u001b[0;34m=\u001b[0m \u001b[0mopen\u001b[0m\u001b[0;34m(\u001b[0m\u001b[0mhandle\u001b[0m\u001b[0;34m,\u001b[0m \u001b[0mioargs\u001b[0m\u001b[0;34m.\u001b[0m\u001b[0mmode\u001b[0m\u001b[0;34m)\u001b[0m\u001b[0;34m\u001b[0m\u001b[0;34m\u001b[0m\u001b[0m\n\u001b[0m\u001b[1;32m    796\u001b[0m         \u001b[0mhandles\u001b[0m\u001b[0;34m.\u001b[0m\u001b[0mappend\u001b[0m\u001b[0;34m(\u001b[0m\u001b[0mhandle\u001b[0m\u001b[0;34m)\u001b[0m\u001b[0;34m\u001b[0m\u001b[0;34m\u001b[0m\u001b[0m\n\u001b[1;32m    797\u001b[0m \u001b[0;34m\u001b[0m\u001b[0m\n",
      "\u001b[0;31mFileNotFoundError\u001b[0m: [Errno 2] No such file or directory: '/Users/hectorvargas/Desktop/Career_Foundry/11-2022 Instacart Basket Analysis/02 Data/Prepared Data/final_merged.pkl'"
     ]
    }
   ],
   "source": [
    "# Importing data\n",
    "final_data = pd.read_pickle(os.path.join(path, '02 Data','Prepared Data', 'final_merged.pkl'))"
   ]
  },
  {
   "cell_type": "code",
   "execution_count": 176,
   "id": "6d10205e",
   "metadata": {},
   "outputs": [
    {
     "data": {
      "text/html": [
       "<div>\n",
       "<style scoped>\n",
       "    .dataframe tbody tr th:only-of-type {\n",
       "        vertical-align: middle;\n",
       "    }\n",
       "\n",
       "    .dataframe tbody tr th {\n",
       "        vertical-align: top;\n",
       "    }\n",
       "\n",
       "    .dataframe thead th {\n",
       "        text-align: right;\n",
       "    }\n",
       "</style>\n",
       "<table border=\"1\" class=\"dataframe\">\n",
       "  <thead>\n",
       "    <tr style=\"text-align: right;\">\n",
       "      <th></th>\n",
       "      <th>order_id</th>\n",
       "      <th>user_id</th>\n",
       "      <th>eval_set</th>\n",
       "      <th>order_number</th>\n",
       "      <th>orders_day_of_week</th>\n",
       "      <th>order_hour_of_day</th>\n",
       "      <th>days_since_prior_order</th>\n",
       "      <th>product_id</th>\n",
       "      <th>add_to_cart_order</th>\n",
       "      <th>reordered</th>\n",
       "      <th>...</th>\n",
       "      <th>frequency_flag</th>\n",
       "      <th>first_name</th>\n",
       "      <th>last_name</th>\n",
       "      <th>gender</th>\n",
       "      <th>state</th>\n",
       "      <th>age</th>\n",
       "      <th>date_joined</th>\n",
       "      <th>no_of_dependents</th>\n",
       "      <th>fam_status</th>\n",
       "      <th>income</th>\n",
       "    </tr>\n",
       "  </thead>\n",
       "  <tbody>\n",
       "    <tr>\n",
       "      <th>0</th>\n",
       "      <td>2539329</td>\n",
       "      <td>1</td>\n",
       "      <td>prior</td>\n",
       "      <td>1</td>\n",
       "      <td>2</td>\n",
       "      <td>8</td>\n",
       "      <td>NaN</td>\n",
       "      <td>196</td>\n",
       "      <td>1</td>\n",
       "      <td>0</td>\n",
       "      <td>...</td>\n",
       "      <td>Non-frequent customer</td>\n",
       "      <td>Linda</td>\n",
       "      <td>Nguyen</td>\n",
       "      <td>Female</td>\n",
       "      <td>Alabama</td>\n",
       "      <td>31</td>\n",
       "      <td>2/17/2019</td>\n",
       "      <td>3</td>\n",
       "      <td>married</td>\n",
       "      <td>40423</td>\n",
       "    </tr>\n",
       "    <tr>\n",
       "      <th>1</th>\n",
       "      <td>2398795</td>\n",
       "      <td>1</td>\n",
       "      <td>prior</td>\n",
       "      <td>2</td>\n",
       "      <td>3</td>\n",
       "      <td>7</td>\n",
       "      <td>15.0</td>\n",
       "      <td>196</td>\n",
       "      <td>1</td>\n",
       "      <td>1</td>\n",
       "      <td>...</td>\n",
       "      <td>Non-frequent customer</td>\n",
       "      <td>Linda</td>\n",
       "      <td>Nguyen</td>\n",
       "      <td>Female</td>\n",
       "      <td>Alabama</td>\n",
       "      <td>31</td>\n",
       "      <td>2/17/2019</td>\n",
       "      <td>3</td>\n",
       "      <td>married</td>\n",
       "      <td>40423</td>\n",
       "    </tr>\n",
       "    <tr>\n",
       "      <th>2</th>\n",
       "      <td>473747</td>\n",
       "      <td>1</td>\n",
       "      <td>prior</td>\n",
       "      <td>3</td>\n",
       "      <td>3</td>\n",
       "      <td>12</td>\n",
       "      <td>21.0</td>\n",
       "      <td>196</td>\n",
       "      <td>1</td>\n",
       "      <td>1</td>\n",
       "      <td>...</td>\n",
       "      <td>Non-frequent customer</td>\n",
       "      <td>Linda</td>\n",
       "      <td>Nguyen</td>\n",
       "      <td>Female</td>\n",
       "      <td>Alabama</td>\n",
       "      <td>31</td>\n",
       "      <td>2/17/2019</td>\n",
       "      <td>3</td>\n",
       "      <td>married</td>\n",
       "      <td>40423</td>\n",
       "    </tr>\n",
       "    <tr>\n",
       "      <th>3</th>\n",
       "      <td>2254736</td>\n",
       "      <td>1</td>\n",
       "      <td>prior</td>\n",
       "      <td>4</td>\n",
       "      <td>4</td>\n",
       "      <td>7</td>\n",
       "      <td>29.0</td>\n",
       "      <td>196</td>\n",
       "      <td>1</td>\n",
       "      <td>1</td>\n",
       "      <td>...</td>\n",
       "      <td>Non-frequent customer</td>\n",
       "      <td>Linda</td>\n",
       "      <td>Nguyen</td>\n",
       "      <td>Female</td>\n",
       "      <td>Alabama</td>\n",
       "      <td>31</td>\n",
       "      <td>2/17/2019</td>\n",
       "      <td>3</td>\n",
       "      <td>married</td>\n",
       "      <td>40423</td>\n",
       "    </tr>\n",
       "    <tr>\n",
       "      <th>4</th>\n",
       "      <td>431534</td>\n",
       "      <td>1</td>\n",
       "      <td>prior</td>\n",
       "      <td>5</td>\n",
       "      <td>4</td>\n",
       "      <td>15</td>\n",
       "      <td>28.0</td>\n",
       "      <td>196</td>\n",
       "      <td>1</td>\n",
       "      <td>1</td>\n",
       "      <td>...</td>\n",
       "      <td>Non-frequent customer</td>\n",
       "      <td>Linda</td>\n",
       "      <td>Nguyen</td>\n",
       "      <td>Female</td>\n",
       "      <td>Alabama</td>\n",
       "      <td>31</td>\n",
       "      <td>2/17/2019</td>\n",
       "      <td>3</td>\n",
       "      <td>married</td>\n",
       "      <td>40423</td>\n",
       "    </tr>\n",
       "  </tbody>\n",
       "</table>\n",
       "<p>5 rows × 35 columns</p>\n",
       "</div>"
      ],
      "text/plain": [
       "   order_id  user_id eval_set  order_number  orders_day_of_week  \\\n",
       "0   2539329        1    prior             1                   2   \n",
       "1   2398795        1    prior             2                   3   \n",
       "2    473747        1    prior             3                   3   \n",
       "3   2254736        1    prior             4                   4   \n",
       "4    431534        1    prior             5                   4   \n",
       "\n",
       "   order_hour_of_day  days_since_prior_order  product_id  add_to_cart_order  \\\n",
       "0                  8                     NaN         196                  1   \n",
       "1                  7                    15.0         196                  1   \n",
       "2                 12                    21.0         196                  1   \n",
       "3                  7                    29.0         196                  1   \n",
       "4                 15                    28.0         196                  1   \n",
       "\n",
       "   reordered  ...         frequency_flag  first_name  last_name  gender  \\\n",
       "0          0  ...  Non-frequent customer       Linda     Nguyen  Female   \n",
       "1          1  ...  Non-frequent customer       Linda     Nguyen  Female   \n",
       "2          1  ...  Non-frequent customer       Linda     Nguyen  Female   \n",
       "3          1  ...  Non-frequent customer       Linda     Nguyen  Female   \n",
       "4          1  ...  Non-frequent customer       Linda     Nguyen  Female   \n",
       "\n",
       "     state age date_joined no_of_dependents fam_status  income  \n",
       "0  Alabama  31   2/17/2019                3    married   40423  \n",
       "1  Alabama  31   2/17/2019                3    married   40423  \n",
       "2  Alabama  31   2/17/2019                3    married   40423  \n",
       "3  Alabama  31   2/17/2019                3    married   40423  \n",
       "4  Alabama  31   2/17/2019                3    married   40423  \n",
       "\n",
       "[5 rows x 35 columns]"
      ]
     },
     "execution_count": 176,
     "metadata": {},
     "output_type": "execute_result"
    }
   ],
   "source": [
    "# Checking \"final_data Head\"\n",
    "final_data.head()"
   ]
  },
  {
   "cell_type": "markdown",
   "id": "07c1a339",
   "metadata": {},
   "source": [
    "## 2. Consider any security implications that might exist for this new data. You’ll need to address any PII data in the data before continuing your analysis.\n",
    "\n",
    "The data frame contains two personally identifiable variables (first_name and last_name). We can drop these columns as they aren't GDPR compliance, and we don't need them for the analysis."
   ]
  },
  {
   "cell_type": "markdown",
   "id": "ba2c3b33",
   "metadata": {},
   "source": [
    "## 3. The Instacart officers are interested in comparing customer behavior in different geographic areas. Create a regional segmentation of the data. You’ll need to create a “Region” column based on the “State” column from your customers data set."
   ]
  },
  {
   "cell_type": "code",
   "execution_count": 177,
   "id": "214277b2",
   "metadata": {},
   "outputs": [],
   "source": [
    "# Creating the US regions based on \"https://simple.wikipedia.org/wiki/List_of_regions_of_the_United_States\"\n",
    "region1 = ['Maine', 'New Hampshire', 'Vermont', 'Massachusetts', 'Rhode Island', 'Connecticut', 'New York', 'Pennsylvania', 'New Jersey']"
   ]
  },
  {
   "cell_type": "code",
   "execution_count": 178,
   "id": "51668ad6",
   "metadata": {},
   "outputs": [],
   "source": [
    "region2 = ['Wisconsin', 'Michigan', 'Illinois', 'Indiana', 'Ohio', 'North Dakota', 'South Dakota', 'Nebraska', 'Kansas', 'Minnesota', 'Iowa', 'Missouri']"
   ]
  },
  {
   "cell_type": "code",
   "execution_count": 179,
   "id": "30e64bf1",
   "metadata": {},
   "outputs": [],
   "source": [
    "region3 = ['Delaware', 'Maryland', 'District of Columbia', 'Virginia', 'West Virginia', 'North Carolina', 'South Carolina', 'Georgia', 'Florida', 'Kentucky', 'Tennessee', 'Mississippi', 'Alabama', 'Oklahoma', 'Texas', 'Arkansas', 'Louisiana']"
   ]
  },
  {
   "cell_type": "code",
   "execution_count": 180,
   "id": "f8997e34",
   "metadata": {},
   "outputs": [],
   "source": [
    "region4 = ['Idaho', 'Montana', 'Wyoming', 'Nevada', 'Utah', 'Colorado', 'Arizona', 'New Mexico', 'Alaska', 'Washington', 'Oregon', 'California', 'Hawaii']"
   ]
  },
  {
   "cell_type": "code",
   "execution_count": 181,
   "id": "09d018c0",
   "metadata": {},
   "outputs": [],
   "source": [
    "# Subsetting regions column base on 'state' values\n",
    "final_data.loc[final_data['state'].isin(region1), 'region'] = 'Northeast'"
   ]
  },
  {
   "cell_type": "code",
   "execution_count": 182,
   "id": "38e62d0f",
   "metadata": {},
   "outputs": [],
   "source": [
    "final_data.loc[final_data['state'].isin(region2), 'region'] = 'Midwest'"
   ]
  },
  {
   "cell_type": "code",
   "execution_count": 183,
   "id": "07d2df6e",
   "metadata": {},
   "outputs": [],
   "source": [
    "final_data.loc[final_data['state'].isin(region3), 'region'] = 'South'"
   ]
  },
  {
   "cell_type": "code",
   "execution_count": 184,
   "id": "20d51141",
   "metadata": {},
   "outputs": [],
   "source": [
    "final_data.loc[final_data['state'].isin(region4), 'region'] = 'West'"
   ]
  },
  {
   "cell_type": "code",
   "execution_count": 185,
   "id": "ef7d83a1",
   "metadata": {},
   "outputs": [
    {
     "data": {
      "text/html": [
       "<div>\n",
       "<style scoped>\n",
       "    .dataframe tbody tr th:only-of-type {\n",
       "        vertical-align: middle;\n",
       "    }\n",
       "\n",
       "    .dataframe tbody tr th {\n",
       "        vertical-align: top;\n",
       "    }\n",
       "\n",
       "    .dataframe thead th {\n",
       "        text-align: right;\n",
       "    }\n",
       "</style>\n",
       "<table border=\"1\" class=\"dataframe\">\n",
       "  <thead>\n",
       "    <tr style=\"text-align: right;\">\n",
       "      <th></th>\n",
       "      <th>order_id</th>\n",
       "      <th>user_id</th>\n",
       "      <th>eval_set</th>\n",
       "      <th>order_number</th>\n",
       "      <th>orders_day_of_week</th>\n",
       "      <th>order_hour_of_day</th>\n",
       "      <th>days_since_prior_order</th>\n",
       "      <th>product_id</th>\n",
       "      <th>add_to_cart_order</th>\n",
       "      <th>reordered</th>\n",
       "      <th>...</th>\n",
       "      <th>first_name</th>\n",
       "      <th>last_name</th>\n",
       "      <th>gender</th>\n",
       "      <th>state</th>\n",
       "      <th>age</th>\n",
       "      <th>date_joined</th>\n",
       "      <th>no_of_dependents</th>\n",
       "      <th>fam_status</th>\n",
       "      <th>income</th>\n",
       "      <th>region</th>\n",
       "    </tr>\n",
       "  </thead>\n",
       "  <tbody>\n",
       "    <tr>\n",
       "      <th>0</th>\n",
       "      <td>2539329</td>\n",
       "      <td>1</td>\n",
       "      <td>prior</td>\n",
       "      <td>1</td>\n",
       "      <td>2</td>\n",
       "      <td>8</td>\n",
       "      <td>NaN</td>\n",
       "      <td>196</td>\n",
       "      <td>1</td>\n",
       "      <td>0</td>\n",
       "      <td>...</td>\n",
       "      <td>Linda</td>\n",
       "      <td>Nguyen</td>\n",
       "      <td>Female</td>\n",
       "      <td>Alabama</td>\n",
       "      <td>31</td>\n",
       "      <td>2/17/2019</td>\n",
       "      <td>3</td>\n",
       "      <td>married</td>\n",
       "      <td>40423</td>\n",
       "      <td>South</td>\n",
       "    </tr>\n",
       "    <tr>\n",
       "      <th>1</th>\n",
       "      <td>2398795</td>\n",
       "      <td>1</td>\n",
       "      <td>prior</td>\n",
       "      <td>2</td>\n",
       "      <td>3</td>\n",
       "      <td>7</td>\n",
       "      <td>15.0</td>\n",
       "      <td>196</td>\n",
       "      <td>1</td>\n",
       "      <td>1</td>\n",
       "      <td>...</td>\n",
       "      <td>Linda</td>\n",
       "      <td>Nguyen</td>\n",
       "      <td>Female</td>\n",
       "      <td>Alabama</td>\n",
       "      <td>31</td>\n",
       "      <td>2/17/2019</td>\n",
       "      <td>3</td>\n",
       "      <td>married</td>\n",
       "      <td>40423</td>\n",
       "      <td>South</td>\n",
       "    </tr>\n",
       "    <tr>\n",
       "      <th>2</th>\n",
       "      <td>473747</td>\n",
       "      <td>1</td>\n",
       "      <td>prior</td>\n",
       "      <td>3</td>\n",
       "      <td>3</td>\n",
       "      <td>12</td>\n",
       "      <td>21.0</td>\n",
       "      <td>196</td>\n",
       "      <td>1</td>\n",
       "      <td>1</td>\n",
       "      <td>...</td>\n",
       "      <td>Linda</td>\n",
       "      <td>Nguyen</td>\n",
       "      <td>Female</td>\n",
       "      <td>Alabama</td>\n",
       "      <td>31</td>\n",
       "      <td>2/17/2019</td>\n",
       "      <td>3</td>\n",
       "      <td>married</td>\n",
       "      <td>40423</td>\n",
       "      <td>South</td>\n",
       "    </tr>\n",
       "    <tr>\n",
       "      <th>3</th>\n",
       "      <td>2254736</td>\n",
       "      <td>1</td>\n",
       "      <td>prior</td>\n",
       "      <td>4</td>\n",
       "      <td>4</td>\n",
       "      <td>7</td>\n",
       "      <td>29.0</td>\n",
       "      <td>196</td>\n",
       "      <td>1</td>\n",
       "      <td>1</td>\n",
       "      <td>...</td>\n",
       "      <td>Linda</td>\n",
       "      <td>Nguyen</td>\n",
       "      <td>Female</td>\n",
       "      <td>Alabama</td>\n",
       "      <td>31</td>\n",
       "      <td>2/17/2019</td>\n",
       "      <td>3</td>\n",
       "      <td>married</td>\n",
       "      <td>40423</td>\n",
       "      <td>South</td>\n",
       "    </tr>\n",
       "    <tr>\n",
       "      <th>4</th>\n",
       "      <td>431534</td>\n",
       "      <td>1</td>\n",
       "      <td>prior</td>\n",
       "      <td>5</td>\n",
       "      <td>4</td>\n",
       "      <td>15</td>\n",
       "      <td>28.0</td>\n",
       "      <td>196</td>\n",
       "      <td>1</td>\n",
       "      <td>1</td>\n",
       "      <td>...</td>\n",
       "      <td>Linda</td>\n",
       "      <td>Nguyen</td>\n",
       "      <td>Female</td>\n",
       "      <td>Alabama</td>\n",
       "      <td>31</td>\n",
       "      <td>2/17/2019</td>\n",
       "      <td>3</td>\n",
       "      <td>married</td>\n",
       "      <td>40423</td>\n",
       "      <td>South</td>\n",
       "    </tr>\n",
       "    <tr>\n",
       "      <th>5</th>\n",
       "      <td>3367565</td>\n",
       "      <td>1</td>\n",
       "      <td>prior</td>\n",
       "      <td>6</td>\n",
       "      <td>2</td>\n",
       "      <td>7</td>\n",
       "      <td>19.0</td>\n",
       "      <td>196</td>\n",
       "      <td>1</td>\n",
       "      <td>1</td>\n",
       "      <td>...</td>\n",
       "      <td>Linda</td>\n",
       "      <td>Nguyen</td>\n",
       "      <td>Female</td>\n",
       "      <td>Alabama</td>\n",
       "      <td>31</td>\n",
       "      <td>2/17/2019</td>\n",
       "      <td>3</td>\n",
       "      <td>married</td>\n",
       "      <td>40423</td>\n",
       "      <td>South</td>\n",
       "    </tr>\n",
       "    <tr>\n",
       "      <th>6</th>\n",
       "      <td>550135</td>\n",
       "      <td>1</td>\n",
       "      <td>prior</td>\n",
       "      <td>7</td>\n",
       "      <td>1</td>\n",
       "      <td>9</td>\n",
       "      <td>20.0</td>\n",
       "      <td>196</td>\n",
       "      <td>1</td>\n",
       "      <td>1</td>\n",
       "      <td>...</td>\n",
       "      <td>Linda</td>\n",
       "      <td>Nguyen</td>\n",
       "      <td>Female</td>\n",
       "      <td>Alabama</td>\n",
       "      <td>31</td>\n",
       "      <td>2/17/2019</td>\n",
       "      <td>3</td>\n",
       "      <td>married</td>\n",
       "      <td>40423</td>\n",
       "      <td>South</td>\n",
       "    </tr>\n",
       "    <tr>\n",
       "      <th>7</th>\n",
       "      <td>3108588</td>\n",
       "      <td>1</td>\n",
       "      <td>prior</td>\n",
       "      <td>8</td>\n",
       "      <td>1</td>\n",
       "      <td>14</td>\n",
       "      <td>14.0</td>\n",
       "      <td>196</td>\n",
       "      <td>2</td>\n",
       "      <td>1</td>\n",
       "      <td>...</td>\n",
       "      <td>Linda</td>\n",
       "      <td>Nguyen</td>\n",
       "      <td>Female</td>\n",
       "      <td>Alabama</td>\n",
       "      <td>31</td>\n",
       "      <td>2/17/2019</td>\n",
       "      <td>3</td>\n",
       "      <td>married</td>\n",
       "      <td>40423</td>\n",
       "      <td>South</td>\n",
       "    </tr>\n",
       "    <tr>\n",
       "      <th>8</th>\n",
       "      <td>2295261</td>\n",
       "      <td>1</td>\n",
       "      <td>prior</td>\n",
       "      <td>9</td>\n",
       "      <td>1</td>\n",
       "      <td>16</td>\n",
       "      <td>0.0</td>\n",
       "      <td>196</td>\n",
       "      <td>4</td>\n",
       "      <td>1</td>\n",
       "      <td>...</td>\n",
       "      <td>Linda</td>\n",
       "      <td>Nguyen</td>\n",
       "      <td>Female</td>\n",
       "      <td>Alabama</td>\n",
       "      <td>31</td>\n",
       "      <td>2/17/2019</td>\n",
       "      <td>3</td>\n",
       "      <td>married</td>\n",
       "      <td>40423</td>\n",
       "      <td>South</td>\n",
       "    </tr>\n",
       "    <tr>\n",
       "      <th>9</th>\n",
       "      <td>2550362</td>\n",
       "      <td>1</td>\n",
       "      <td>prior</td>\n",
       "      <td>10</td>\n",
       "      <td>4</td>\n",
       "      <td>8</td>\n",
       "      <td>30.0</td>\n",
       "      <td>196</td>\n",
       "      <td>1</td>\n",
       "      <td>1</td>\n",
       "      <td>...</td>\n",
       "      <td>Linda</td>\n",
       "      <td>Nguyen</td>\n",
       "      <td>Female</td>\n",
       "      <td>Alabama</td>\n",
       "      <td>31</td>\n",
       "      <td>2/17/2019</td>\n",
       "      <td>3</td>\n",
       "      <td>married</td>\n",
       "      <td>40423</td>\n",
       "      <td>South</td>\n",
       "    </tr>\n",
       "    <tr>\n",
       "      <th>10</th>\n",
       "      <td>2539329</td>\n",
       "      <td>1</td>\n",
       "      <td>prior</td>\n",
       "      <td>1</td>\n",
       "      <td>2</td>\n",
       "      <td>8</td>\n",
       "      <td>NaN</td>\n",
       "      <td>14084</td>\n",
       "      <td>2</td>\n",
       "      <td>0</td>\n",
       "      <td>...</td>\n",
       "      <td>Linda</td>\n",
       "      <td>Nguyen</td>\n",
       "      <td>Female</td>\n",
       "      <td>Alabama</td>\n",
       "      <td>31</td>\n",
       "      <td>2/17/2019</td>\n",
       "      <td>3</td>\n",
       "      <td>married</td>\n",
       "      <td>40423</td>\n",
       "      <td>South</td>\n",
       "    </tr>\n",
       "    <tr>\n",
       "      <th>11</th>\n",
       "      <td>2539329</td>\n",
       "      <td>1</td>\n",
       "      <td>prior</td>\n",
       "      <td>1</td>\n",
       "      <td>2</td>\n",
       "      <td>8</td>\n",
       "      <td>NaN</td>\n",
       "      <td>12427</td>\n",
       "      <td>3</td>\n",
       "      <td>0</td>\n",
       "      <td>...</td>\n",
       "      <td>Linda</td>\n",
       "      <td>Nguyen</td>\n",
       "      <td>Female</td>\n",
       "      <td>Alabama</td>\n",
       "      <td>31</td>\n",
       "      <td>2/17/2019</td>\n",
       "      <td>3</td>\n",
       "      <td>married</td>\n",
       "      <td>40423</td>\n",
       "      <td>South</td>\n",
       "    </tr>\n",
       "    <tr>\n",
       "      <th>12</th>\n",
       "      <td>2398795</td>\n",
       "      <td>1</td>\n",
       "      <td>prior</td>\n",
       "      <td>2</td>\n",
       "      <td>3</td>\n",
       "      <td>7</td>\n",
       "      <td>15.0</td>\n",
       "      <td>12427</td>\n",
       "      <td>3</td>\n",
       "      <td>1</td>\n",
       "      <td>...</td>\n",
       "      <td>Linda</td>\n",
       "      <td>Nguyen</td>\n",
       "      <td>Female</td>\n",
       "      <td>Alabama</td>\n",
       "      <td>31</td>\n",
       "      <td>2/17/2019</td>\n",
       "      <td>3</td>\n",
       "      <td>married</td>\n",
       "      <td>40423</td>\n",
       "      <td>South</td>\n",
       "    </tr>\n",
       "    <tr>\n",
       "      <th>13</th>\n",
       "      <td>473747</td>\n",
       "      <td>1</td>\n",
       "      <td>prior</td>\n",
       "      <td>3</td>\n",
       "      <td>3</td>\n",
       "      <td>12</td>\n",
       "      <td>21.0</td>\n",
       "      <td>12427</td>\n",
       "      <td>2</td>\n",
       "      <td>1</td>\n",
       "      <td>...</td>\n",
       "      <td>Linda</td>\n",
       "      <td>Nguyen</td>\n",
       "      <td>Female</td>\n",
       "      <td>Alabama</td>\n",
       "      <td>31</td>\n",
       "      <td>2/17/2019</td>\n",
       "      <td>3</td>\n",
       "      <td>married</td>\n",
       "      <td>40423</td>\n",
       "      <td>South</td>\n",
       "    </tr>\n",
       "    <tr>\n",
       "      <th>14</th>\n",
       "      <td>2254736</td>\n",
       "      <td>1</td>\n",
       "      <td>prior</td>\n",
       "      <td>4</td>\n",
       "      <td>4</td>\n",
       "      <td>7</td>\n",
       "      <td>29.0</td>\n",
       "      <td>12427</td>\n",
       "      <td>2</td>\n",
       "      <td>1</td>\n",
       "      <td>...</td>\n",
       "      <td>Linda</td>\n",
       "      <td>Nguyen</td>\n",
       "      <td>Female</td>\n",
       "      <td>Alabama</td>\n",
       "      <td>31</td>\n",
       "      <td>2/17/2019</td>\n",
       "      <td>3</td>\n",
       "      <td>married</td>\n",
       "      <td>40423</td>\n",
       "      <td>South</td>\n",
       "    </tr>\n",
       "    <tr>\n",
       "      <th>15</th>\n",
       "      <td>431534</td>\n",
       "      <td>1</td>\n",
       "      <td>prior</td>\n",
       "      <td>5</td>\n",
       "      <td>4</td>\n",
       "      <td>15</td>\n",
       "      <td>28.0</td>\n",
       "      <td>12427</td>\n",
       "      <td>2</td>\n",
       "      <td>1</td>\n",
       "      <td>...</td>\n",
       "      <td>Linda</td>\n",
       "      <td>Nguyen</td>\n",
       "      <td>Female</td>\n",
       "      <td>Alabama</td>\n",
       "      <td>31</td>\n",
       "      <td>2/17/2019</td>\n",
       "      <td>3</td>\n",
       "      <td>married</td>\n",
       "      <td>40423</td>\n",
       "      <td>South</td>\n",
       "    </tr>\n",
       "    <tr>\n",
       "      <th>16</th>\n",
       "      <td>3367565</td>\n",
       "      <td>1</td>\n",
       "      <td>prior</td>\n",
       "      <td>6</td>\n",
       "      <td>2</td>\n",
       "      <td>7</td>\n",
       "      <td>19.0</td>\n",
       "      <td>12427</td>\n",
       "      <td>2</td>\n",
       "      <td>1</td>\n",
       "      <td>...</td>\n",
       "      <td>Linda</td>\n",
       "      <td>Nguyen</td>\n",
       "      <td>Female</td>\n",
       "      <td>Alabama</td>\n",
       "      <td>31</td>\n",
       "      <td>2/17/2019</td>\n",
       "      <td>3</td>\n",
       "      <td>married</td>\n",
       "      <td>40423</td>\n",
       "      <td>South</td>\n",
       "    </tr>\n",
       "    <tr>\n",
       "      <th>17</th>\n",
       "      <td>550135</td>\n",
       "      <td>1</td>\n",
       "      <td>prior</td>\n",
       "      <td>7</td>\n",
       "      <td>1</td>\n",
       "      <td>9</td>\n",
       "      <td>20.0</td>\n",
       "      <td>12427</td>\n",
       "      <td>3</td>\n",
       "      <td>1</td>\n",
       "      <td>...</td>\n",
       "      <td>Linda</td>\n",
       "      <td>Nguyen</td>\n",
       "      <td>Female</td>\n",
       "      <td>Alabama</td>\n",
       "      <td>31</td>\n",
       "      <td>2/17/2019</td>\n",
       "      <td>3</td>\n",
       "      <td>married</td>\n",
       "      <td>40423</td>\n",
       "      <td>South</td>\n",
       "    </tr>\n",
       "    <tr>\n",
       "      <th>18</th>\n",
       "      <td>3108588</td>\n",
       "      <td>1</td>\n",
       "      <td>prior</td>\n",
       "      <td>8</td>\n",
       "      <td>1</td>\n",
       "      <td>14</td>\n",
       "      <td>14.0</td>\n",
       "      <td>12427</td>\n",
       "      <td>1</td>\n",
       "      <td>1</td>\n",
       "      <td>...</td>\n",
       "      <td>Linda</td>\n",
       "      <td>Nguyen</td>\n",
       "      <td>Female</td>\n",
       "      <td>Alabama</td>\n",
       "      <td>31</td>\n",
       "      <td>2/17/2019</td>\n",
       "      <td>3</td>\n",
       "      <td>married</td>\n",
       "      <td>40423</td>\n",
       "      <td>South</td>\n",
       "    </tr>\n",
       "    <tr>\n",
       "      <th>19</th>\n",
       "      <td>2295261</td>\n",
       "      <td>1</td>\n",
       "      <td>prior</td>\n",
       "      <td>9</td>\n",
       "      <td>1</td>\n",
       "      <td>16</td>\n",
       "      <td>0.0</td>\n",
       "      <td>12427</td>\n",
       "      <td>6</td>\n",
       "      <td>1</td>\n",
       "      <td>...</td>\n",
       "      <td>Linda</td>\n",
       "      <td>Nguyen</td>\n",
       "      <td>Female</td>\n",
       "      <td>Alabama</td>\n",
       "      <td>31</td>\n",
       "      <td>2/17/2019</td>\n",
       "      <td>3</td>\n",
       "      <td>married</td>\n",
       "      <td>40423</td>\n",
       "      <td>South</td>\n",
       "    </tr>\n",
       "  </tbody>\n",
       "</table>\n",
       "<p>20 rows × 36 columns</p>\n",
       "</div>"
      ],
      "text/plain": [
       "    order_id  user_id eval_set  order_number  orders_day_of_week  \\\n",
       "0    2539329        1    prior             1                   2   \n",
       "1    2398795        1    prior             2                   3   \n",
       "2     473747        1    prior             3                   3   \n",
       "3    2254736        1    prior             4                   4   \n",
       "4     431534        1    prior             5                   4   \n",
       "5    3367565        1    prior             6                   2   \n",
       "6     550135        1    prior             7                   1   \n",
       "7    3108588        1    prior             8                   1   \n",
       "8    2295261        1    prior             9                   1   \n",
       "9    2550362        1    prior            10                   4   \n",
       "10   2539329        1    prior             1                   2   \n",
       "11   2539329        1    prior             1                   2   \n",
       "12   2398795        1    prior             2                   3   \n",
       "13    473747        1    prior             3                   3   \n",
       "14   2254736        1    prior             4                   4   \n",
       "15    431534        1    prior             5                   4   \n",
       "16   3367565        1    prior             6                   2   \n",
       "17    550135        1    prior             7                   1   \n",
       "18   3108588        1    prior             8                   1   \n",
       "19   2295261        1    prior             9                   1   \n",
       "\n",
       "    order_hour_of_day  days_since_prior_order  product_id  add_to_cart_order  \\\n",
       "0                   8                     NaN         196                  1   \n",
       "1                   7                    15.0         196                  1   \n",
       "2                  12                    21.0         196                  1   \n",
       "3                   7                    29.0         196                  1   \n",
       "4                  15                    28.0         196                  1   \n",
       "5                   7                    19.0         196                  1   \n",
       "6                   9                    20.0         196                  1   \n",
       "7                  14                    14.0         196                  2   \n",
       "8                  16                     0.0         196                  4   \n",
       "9                   8                    30.0         196                  1   \n",
       "10                  8                     NaN       14084                  2   \n",
       "11                  8                     NaN       12427                  3   \n",
       "12                  7                    15.0       12427                  3   \n",
       "13                 12                    21.0       12427                  2   \n",
       "14                  7                    29.0       12427                  2   \n",
       "15                 15                    28.0       12427                  2   \n",
       "16                  7                    19.0       12427                  2   \n",
       "17                  9                    20.0       12427                  3   \n",
       "18                 14                    14.0       12427                  1   \n",
       "19                 16                     0.0       12427                  6   \n",
       "\n",
       "    reordered  ... first_name  last_name  gender    state age date_joined  \\\n",
       "0           0  ...      Linda     Nguyen  Female  Alabama  31   2/17/2019   \n",
       "1           1  ...      Linda     Nguyen  Female  Alabama  31   2/17/2019   \n",
       "2           1  ...      Linda     Nguyen  Female  Alabama  31   2/17/2019   \n",
       "3           1  ...      Linda     Nguyen  Female  Alabama  31   2/17/2019   \n",
       "4           1  ...      Linda     Nguyen  Female  Alabama  31   2/17/2019   \n",
       "5           1  ...      Linda     Nguyen  Female  Alabama  31   2/17/2019   \n",
       "6           1  ...      Linda     Nguyen  Female  Alabama  31   2/17/2019   \n",
       "7           1  ...      Linda     Nguyen  Female  Alabama  31   2/17/2019   \n",
       "8           1  ...      Linda     Nguyen  Female  Alabama  31   2/17/2019   \n",
       "9           1  ...      Linda     Nguyen  Female  Alabama  31   2/17/2019   \n",
       "10          0  ...      Linda     Nguyen  Female  Alabama  31   2/17/2019   \n",
       "11          0  ...      Linda     Nguyen  Female  Alabama  31   2/17/2019   \n",
       "12          1  ...      Linda     Nguyen  Female  Alabama  31   2/17/2019   \n",
       "13          1  ...      Linda     Nguyen  Female  Alabama  31   2/17/2019   \n",
       "14          1  ...      Linda     Nguyen  Female  Alabama  31   2/17/2019   \n",
       "15          1  ...      Linda     Nguyen  Female  Alabama  31   2/17/2019   \n",
       "16          1  ...      Linda     Nguyen  Female  Alabama  31   2/17/2019   \n",
       "17          1  ...      Linda     Nguyen  Female  Alabama  31   2/17/2019   \n",
       "18          1  ...      Linda     Nguyen  Female  Alabama  31   2/17/2019   \n",
       "19          1  ...      Linda     Nguyen  Female  Alabama  31   2/17/2019   \n",
       "\n",
       "   no_of_dependents fam_status income  region  \n",
       "0                 3    married  40423   South  \n",
       "1                 3    married  40423   South  \n",
       "2                 3    married  40423   South  \n",
       "3                 3    married  40423   South  \n",
       "4                 3    married  40423   South  \n",
       "5                 3    married  40423   South  \n",
       "6                 3    married  40423   South  \n",
       "7                 3    married  40423   South  \n",
       "8                 3    married  40423   South  \n",
       "9                 3    married  40423   South  \n",
       "10                3    married  40423   South  \n",
       "11                3    married  40423   South  \n",
       "12                3    married  40423   South  \n",
       "13                3    married  40423   South  \n",
       "14                3    married  40423   South  \n",
       "15                3    married  40423   South  \n",
       "16                3    married  40423   South  \n",
       "17                3    married  40423   South  \n",
       "18                3    married  40423   South  \n",
       "19                3    married  40423   South  \n",
       "\n",
       "[20 rows x 36 columns]"
      ]
     },
     "execution_count": 185,
     "metadata": {},
     "output_type": "execute_result"
    }
   ],
   "source": [
    "# Checking dateframe with to head to see if the \"region was added\"\n",
    "final_data.head(20)"
   ]
  },
  {
   "cell_type": "code",
   "execution_count": 186,
   "id": "3b24abdd",
   "metadata": {},
   "outputs": [
    {
     "data": {
      "text/plain": [
       "(32404859, 36)"
      ]
     },
     "execution_count": 186,
     "metadata": {},
     "output_type": "execute_result"
    }
   ],
   "source": [
    "# DF shape\n",
    "final_data.shape"
   ]
  },
  {
   "cell_type": "code",
   "execution_count": 187,
   "id": "468b6bb3",
   "metadata": {},
   "outputs": [
    {
     "data": {
      "text/plain": [
       "South        10791885\n",
       "West          8292913\n",
       "Midwest       7597325\n",
       "Northeast     5722736\n",
       "Name: region, dtype: int64"
      ]
     },
     "execution_count": 187,
     "metadata": {},
     "output_type": "execute_result"
    }
   ],
   "source": [
    "# Checking 'region' values counts\n",
    "final_data['region'].value_counts(dropna = False)"
   ]
  },
  {
   "cell_type": "code",
   "execution_count": 188,
   "id": "529a185e",
   "metadata": {},
   "outputs": [
    {
     "data": {
      "text/plain": [
       "Index(['order_id', 'user_id', 'eval_set', 'order_number', 'orders_day_of_week',\n",
       "       'order_hour_of_day', 'days_since_prior_order', 'product_id',\n",
       "       'add_to_cart_order', 'reordered', 'product_name', 'aisle_id',\n",
       "       'department_id', 'prices', '_merge', 'price_range_loc', 'busiest_day',\n",
       "       'busiest_days', 'busiest_period_of_day', 'max_order', 'loyalty_flag',\n",
       "       'avg_price', 'spender_flag', 'spenders_flag',\n",
       "       'median_days_since_prior_order', 'frequency_flag', 'first_name',\n",
       "       'last_name', 'gender', 'state', 'age', 'date_joined',\n",
       "       'no_of_dependents', 'fam_status', 'income', 'region'],\n",
       "      dtype='object')"
      ]
     },
     "execution_count": 188,
     "metadata": {},
     "output_type": "execute_result"
    }
   ],
   "source": [
    "# Looking for 'spenders_fla\n",
    "final_data.columns"
   ]
  },
  {
   "cell_type": "code",
   "execution_count": 189,
   "id": "7d731dd5",
   "metadata": {},
   "outputs": [
    {
     "data": {
      "text/html": [
       "<div>\n",
       "<style scoped>\n",
       "    .dataframe tbody tr th:only-of-type {\n",
       "        vertical-align: middle;\n",
       "    }\n",
       "\n",
       "    .dataframe tbody tr th {\n",
       "        vertical-align: top;\n",
       "    }\n",
       "\n",
       "    .dataframe thead th {\n",
       "        text-align: right;\n",
       "    }\n",
       "</style>\n",
       "<table border=\"1\" class=\"dataframe\">\n",
       "  <thead>\n",
       "    <tr style=\"text-align: right;\">\n",
       "      <th>spenders_flag</th>\n",
       "      <th>High spender</th>\n",
       "      <th>Low spender</th>\n",
       "    </tr>\n",
       "    <tr>\n",
       "      <th>region</th>\n",
       "      <th></th>\n",
       "      <th></th>\n",
       "    </tr>\n",
       "  </thead>\n",
       "  <tbody>\n",
       "    <tr>\n",
       "      <th>Midwest</th>\n",
       "      <td>155975</td>\n",
       "      <td>7441350</td>\n",
       "    </tr>\n",
       "    <tr>\n",
       "      <th>Northeast</th>\n",
       "      <td>108225</td>\n",
       "      <td>5614511</td>\n",
       "    </tr>\n",
       "    <tr>\n",
       "      <th>South</th>\n",
       "      <td>209691</td>\n",
       "      <td>10582194</td>\n",
       "    </tr>\n",
       "    <tr>\n",
       "      <th>West</th>\n",
       "      <td>160354</td>\n",
       "      <td>8132559</td>\n",
       "    </tr>\n",
       "  </tbody>\n",
       "</table>\n",
       "</div>"
      ],
      "text/plain": [
       "spenders_flag  High spender  Low spender\n",
       "region                                  \n",
       "Midwest              155975      7441350\n",
       "Northeast            108225      5614511\n",
       "South                209691     10582194\n",
       "West                 160354      8132559"
      ]
     },
     "execution_count": 189,
     "metadata": {},
     "output_type": "execute_result"
    }
   ],
   "source": [
    "# Crossing region values with spenders_flag\n",
    "pd.crosstab(final_data['region'],final_data['spenders_flag'], dropna = False)"
   ]
  },
  {
   "cell_type": "code",
   "execution_count": 190,
   "id": "b5d4d8aa",
   "metadata": {},
   "outputs": [
    {
     "data": {
      "text/html": [
       "<div>\n",
       "<style scoped>\n",
       "    .dataframe tbody tr th:only-of-type {\n",
       "        vertical-align: middle;\n",
       "    }\n",
       "\n",
       "    .dataframe tbody tr th {\n",
       "        vertical-align: top;\n",
       "    }\n",
       "\n",
       "    .dataframe thead th {\n",
       "        text-align: right;\n",
       "    }\n",
       "</style>\n",
       "<table border=\"1\" class=\"dataframe\">\n",
       "  <thead>\n",
       "    <tr style=\"text-align: right;\">\n",
       "      <th>loyalty_flag</th>\n",
       "      <th>Loyal customer</th>\n",
       "      <th>New customer</th>\n",
       "      <th>Regular customer</th>\n",
       "    </tr>\n",
       "    <tr>\n",
       "      <th>region</th>\n",
       "      <th></th>\n",
       "      <th></th>\n",
       "      <th></th>\n",
       "    </tr>\n",
       "  </thead>\n",
       "  <tbody>\n",
       "    <tr>\n",
       "      <th>Midwest</th>\n",
       "      <td>2373774</td>\n",
       "      <td>1472573</td>\n",
       "      <td>3750978</td>\n",
       "    </tr>\n",
       "    <tr>\n",
       "      <th>Northeast</th>\n",
       "      <td>1841785</td>\n",
       "      <td>1100207</td>\n",
       "      <td>2780744</td>\n",
       "    </tr>\n",
       "    <tr>\n",
       "      <th>South</th>\n",
       "      <td>3405844</td>\n",
       "      <td>2074410</td>\n",
       "      <td>5311631</td>\n",
       "    </tr>\n",
       "    <tr>\n",
       "      <th>West</th>\n",
       "      <td>2662690</td>\n",
       "      <td>1596800</td>\n",
       "      <td>4033423</td>\n",
       "    </tr>\n",
       "  </tbody>\n",
       "</table>\n",
       "</div>"
      ],
      "text/plain": [
       "loyalty_flag  Loyal customer  New customer  Regular customer\n",
       "region                                                      \n",
       "Midwest              2373774       1472573           3750978\n",
       "Northeast            1841785       1100207           2780744\n",
       "South                3405844       2074410           5311631\n",
       "West                 2662690       1596800           4033423"
      ]
     },
     "execution_count": 190,
     "metadata": {},
     "output_type": "execute_result"
    }
   ],
   "source": [
    "# Crossing region values with loyalty_flag\n",
    "pd.crosstab(final_data['region'],final_data['loyalty_flag'], dropna = False)"
   ]
  },
  {
   "cell_type": "markdown",
   "id": "d0864edb",
   "metadata": {},
   "source": [
    "## 4. The Instacart CFO isn’t interested in customers who don’t generate much revenue for the app. Create an exclusion flag for low-activity customers (customers with less than 5 orders) and exclude them from the data. Make sure you export this sample."
   ]
  },
  {
   "cell_type": "code",
   "execution_count": 191,
   "id": "2d900b54",
   "metadata": {},
   "outputs": [],
   "source": [
    "# creating activity flag to define low-high Activity\n",
    "final_data.loc[final_data['max_order'] <= 5, 'activity_flag'] = 'Low Activity'"
   ]
  },
  {
   "cell_type": "code",
   "execution_count": 192,
   "id": "d32b0c4d",
   "metadata": {},
   "outputs": [],
   "source": [
    "final_data.loc[final_data['max_order'] > 5, 'activity_flag'] = 'High Activity'"
   ]
  },
  {
   "cell_type": "code",
   "execution_count": 193,
   "id": "6181bc44",
   "metadata": {},
   "outputs": [
    {
     "data": {
      "text/plain": [
       "0           High Activity\n",
       "1           High Activity\n",
       "2           High Activity\n",
       "3           High Activity\n",
       "4           High Activity\n",
       "                ...      \n",
       "32404854    High Activity\n",
       "32404855     Low Activity\n",
       "32404856     Low Activity\n",
       "32404857     Low Activity\n",
       "32404858     Low Activity\n",
       "Name: activity_flag, Length: 32404859, dtype: object"
      ]
     },
     "execution_count": 193,
     "metadata": {},
     "output_type": "execute_result"
    }
   ],
   "source": [
    "final_data['activity_flag']"
   ]
  },
  {
   "cell_type": "code",
   "execution_count": 194,
   "id": "77cd8c5d",
   "metadata": {},
   "outputs": [
    {
     "data": {
      "text/plain": [
       "High Activity    30171424\n",
       "Low Activity      2233435\n",
       "Name: activity_flag, dtype: int64"
      ]
     },
     "execution_count": 194,
     "metadata": {},
     "output_type": "execute_result"
    }
   ],
   "source": [
    "# Activity_flag counts\n",
    "final_data['activity_flag'].value_counts(dropna = False)"
   ]
  },
  {
   "cell_type": "code",
   "execution_count": 195,
   "id": "bee36738",
   "metadata": {},
   "outputs": [],
   "source": [
    "# Excluding \"low_activity\" values\n",
    "new_final_data = final_data.drop(final_data[final_data.max_order <= 5].index)"
   ]
  },
  {
   "cell_type": "code",
   "execution_count": 196,
   "id": "970d3444",
   "metadata": {},
   "outputs": [
    {
     "data": {
      "text/plain": [
       "(30171424, 37)"
      ]
     },
     "execution_count": 196,
     "metadata": {},
     "output_type": "execute_result"
    }
   ],
   "source": [
    "# Cheking drop\n",
    "new_final_data.shape"
   ]
  },
  {
   "cell_type": "code",
   "execution_count": 197,
   "id": "60f51969",
   "metadata": {},
   "outputs": [],
   "source": [
    "# Exporting the new sample (without \"low_activity\")\n",
    "new_final_data.to_pickle(os.path.join(path, '02 Data', 'Prepared Data', 'new_final_data.pkl'))"
   ]
  },
  {
   "cell_type": "markdown",
   "id": "13f203bf",
   "metadata": {},
   "source": [
    "## 5. The marketing and business strategy units at Instacart want to create more-relevant marketing strategies for different products and are, thus, curious about customer profiling in their database. Create a profiling variable based on age, income, certain goods in the “department_id” column, and number of dependents. You might also use the “orders_day_of_the_week” and “order_hour_of_day” columns if you can think of a way they would impact customer profiles. (Hint: As an example, try thinking of what characteristics would lead you to the profile “Single adult” or “Young parent.”)"
   ]
  },
  {
   "cell_type": "code",
   "execution_count": 198,
   "id": "1f56a644",
   "metadata": {},
   "outputs": [
    {
     "data": {
      "text/plain": [
       "array([31, 69, 62, 71, 38, 41, 64, 66, 49, 60, 30, 67, 51, 50, 76, 24, 70,\n",
       "       26, 22, 75, 61, 27, 58, 63, 81, 78, 32, 55, 52, 39, 18, 21, 34, 54,\n",
       "       79, 73, 19, 23, 68, 44, 42, 80, 57, 37, 40, 29, 45, 20, 25, 65, 36,\n",
       "       59, 46, 43, 28, 77, 47, 56, 35, 53, 72, 74, 33, 48])"
      ]
     },
     "execution_count": 198,
     "metadata": {},
     "output_type": "execute_result"
    }
   ],
   "source": [
    "# Age values\n",
    "new_final_data['age'].unique()"
   ]
  },
  {
   "cell_type": "code",
   "execution_count": 199,
   "id": "2df219e5",
   "metadata": {},
   "outputs": [],
   "source": [
    "# Creating Age Categorie\n",
    "new_final_data.loc[(new_final_data['age']>=19)&(new_final_data['age']<=35),'age_category']='young adults'"
   ]
  },
  {
   "cell_type": "code",
   "execution_count": 200,
   "id": "4a970db1",
   "metadata": {},
   "outputs": [],
   "source": [
    "new_final_data.loc[(new_final_data['age']>=36)&(new_final_data['age']<=55),'age_category']='middle age adults'"
   ]
  },
  {
   "cell_type": "code",
   "execution_count": 201,
   "id": "8a59d0c3",
   "metadata": {},
   "outputs": [],
   "source": [
    "new_final_data.loc[(new_final_data['age']>=56)&(new_final_data['age']<=75),'age_category']='older adults'"
   ]
  },
  {
   "cell_type": "code",
   "execution_count": 202,
   "id": "3c29810e",
   "metadata": {},
   "outputs": [],
   "source": [
    "new_final_data.loc[new_final_data['age']>76,'age_category']='senior'"
   ]
  },
  {
   "cell_type": "code",
   "execution_count": 203,
   "id": "639f49b2",
   "metadata": {},
   "outputs": [
    {
     "data": {
      "text/plain": [
       "middle age adults    9466456\n",
       "older adults         9347159\n",
       "young adults         8049766\n",
       "senior               2376742\n",
       "Name: age_category, dtype: int64"
      ]
     },
     "execution_count": 203,
     "metadata": {},
     "output_type": "execute_result"
    }
   ],
   "source": [
    "# Output Age categorie\n",
    "new_final_data['age_category'].value_counts()"
   ]
  },
  {
   "cell_type": "code",
   "execution_count": 204,
   "id": "87388135",
   "metadata": {},
   "outputs": [
    {
     "data": {
      "text/plain": [
       "30171424"
      ]
     },
     "execution_count": 204,
     "metadata": {},
     "output_type": "execute_result"
    }
   ],
   "source": [
    "len(new_final_data['age_category'])"
   ]
  },
  {
   "cell_type": "code",
   "execution_count": 205,
   "id": "80da6f10",
   "metadata": {},
   "outputs": [
    {
     "data": {
      "text/html": [
       "<div>\n",
       "<style scoped>\n",
       "    .dataframe tbody tr th:only-of-type {\n",
       "        vertical-align: middle;\n",
       "    }\n",
       "\n",
       "    .dataframe tbody tr th {\n",
       "        vertical-align: top;\n",
       "    }\n",
       "\n",
       "    .dataframe thead tr th {\n",
       "        text-align: left;\n",
       "    }\n",
       "\n",
       "    .dataframe thead tr:last-of-type th {\n",
       "        text-align: right;\n",
       "    }\n",
       "</style>\n",
       "<table border=\"1\" class=\"dataframe\">\n",
       "  <thead>\n",
       "    <tr>\n",
       "      <th></th>\n",
       "      <th colspan=\"3\" halign=\"left\">income</th>\n",
       "    </tr>\n",
       "    <tr>\n",
       "      <th></th>\n",
       "      <th>mean</th>\n",
       "      <th>min</th>\n",
       "      <th>max</th>\n",
       "    </tr>\n",
       "    <tr>\n",
       "      <th>age_category</th>\n",
       "      <th></th>\n",
       "      <th></th>\n",
       "      <th></th>\n",
       "    </tr>\n",
       "  </thead>\n",
       "  <tbody>\n",
       "    <tr>\n",
       "      <th>middle age adults</th>\n",
       "      <td>104909.405967</td>\n",
       "      <td>25903</td>\n",
       "      <td>592409</td>\n",
       "    </tr>\n",
       "    <tr>\n",
       "      <th>older adults</th>\n",
       "      <td>116169.258456</td>\n",
       "      <td>29001</td>\n",
       "      <td>593901</td>\n",
       "    </tr>\n",
       "    <tr>\n",
       "      <th>senior</th>\n",
       "      <td>115965.954000</td>\n",
       "      <td>29113</td>\n",
       "      <td>579169</td>\n",
       "    </tr>\n",
       "    <tr>\n",
       "      <th>young adults</th>\n",
       "      <td>70690.750438</td>\n",
       "      <td>25911</td>\n",
       "      <td>396364</td>\n",
       "    </tr>\n",
       "  </tbody>\n",
       "</table>\n",
       "</div>"
      ],
      "text/plain": [
       "                          income               \n",
       "                            mean    min     max\n",
       "age_category                                   \n",
       "middle age adults  104909.405967  25903  592409\n",
       "older adults       116169.258456  29001  593901\n",
       "senior             115965.954000  29113  579169\n",
       "young adults        70690.750438  25911  396364"
      ]
     },
     "execution_count": 205,
     "metadata": {},
     "output_type": "execute_result"
    }
   ],
   "source": [
    "# Creating income Categorie\n",
    "new_final_data.groupby('age_category').agg({'income': ['mean','min','max']})"
   ]
  },
  {
   "cell_type": "code",
   "execution_count": 206,
   "id": "40b52e56",
   "metadata": {},
   "outputs": [],
   "source": [
    "new_final_data.loc[(new_final_data['income']>=10000)&(new_final_data['income']<=50000),'income_category']='lower middle income'"
   ]
  },
  {
   "cell_type": "code",
   "execution_count": 207,
   "id": "8344e8ec",
   "metadata": {},
   "outputs": [],
   "source": [
    "new_final_data.loc[(new_final_data['income']>=51000)&(new_final_data['income']<=100000),'income_category']='middle income'"
   ]
  },
  {
   "cell_type": "code",
   "execution_count": 208,
   "id": "130e8dd6",
   "metadata": {},
   "outputs": [],
   "source": [
    "new_final_data.loc[(new_final_data['income']>=110000)&(new_final_data['income']<=300000),'income_category']='upper-middle income'"
   ]
  },
  {
   "cell_type": "code",
   "execution_count": 209,
   "id": "603c6701",
   "metadata": {},
   "outputs": [],
   "source": [
    "new_final_data.loc[new_final_data['income']>310000,'income_category']='rich income'"
   ]
  },
  {
   "cell_type": "code",
   "execution_count": 210,
   "id": "6bc1438c",
   "metadata": {},
   "outputs": [
    {
     "data": {
      "text/plain": [
       "middle income          12937209\n",
       "upper-middle income    11189531\n",
       "lower middle income     3248834\n",
       "rich income               93531\n",
       "Name: income_category, dtype: int64"
      ]
     },
     "execution_count": 210,
     "metadata": {},
     "output_type": "execute_result"
    }
   ],
   "source": [
    "new_final_data['income_category'].value_counts()"
   ]
  },
  {
   "cell_type": "code",
   "execution_count": 211,
   "id": "1c3c2107",
   "metadata": {},
   "outputs": [
    {
     "data": {
      "text/html": [
       "<div>\n",
       "<style scoped>\n",
       "    .dataframe tbody tr th:only-of-type {\n",
       "        vertical-align: middle;\n",
       "    }\n",
       "\n",
       "    .dataframe tbody tr th {\n",
       "        vertical-align: top;\n",
       "    }\n",
       "\n",
       "    .dataframe thead th {\n",
       "        text-align: right;\n",
       "    }\n",
       "</style>\n",
       "<table border=\"1\" class=\"dataframe\">\n",
       "  <thead>\n",
       "    <tr style=\"text-align: right;\">\n",
       "      <th></th>\n",
       "      <th>department_id</th>\n",
       "      <th>1</th>\n",
       "      <th>2</th>\n",
       "      <th>3</th>\n",
       "      <th>4</th>\n",
       "      <th>5</th>\n",
       "      <th>6</th>\n",
       "      <th>7</th>\n",
       "      <th>8</th>\n",
       "      <th>9</th>\n",
       "      <th>...</th>\n",
       "      <th>12</th>\n",
       "      <th>13</th>\n",
       "      <th>14</th>\n",
       "      <th>15</th>\n",
       "      <th>16</th>\n",
       "      <th>17</th>\n",
       "      <th>18</th>\n",
       "      <th>19</th>\n",
       "      <th>20</th>\n",
       "      <th>21</th>\n",
       "    </tr>\n",
       "  </thead>\n",
       "  <tbody>\n",
       "    <tr>\n",
       "      <th>0</th>\n",
       "      <td>department</td>\n",
       "      <td>frozen</td>\n",
       "      <td>other</td>\n",
       "      <td>bakery</td>\n",
       "      <td>produce</td>\n",
       "      <td>alcohol</td>\n",
       "      <td>international</td>\n",
       "      <td>beverages</td>\n",
       "      <td>pets</td>\n",
       "      <td>dry goods pasta</td>\n",
       "      <td>...</td>\n",
       "      <td>meat seafood</td>\n",
       "      <td>pantry</td>\n",
       "      <td>breakfast</td>\n",
       "      <td>canned goods</td>\n",
       "      <td>dairy eggs</td>\n",
       "      <td>household</td>\n",
       "      <td>babies</td>\n",
       "      <td>snacks</td>\n",
       "      <td>deli</td>\n",
       "      <td>missing</td>\n",
       "    </tr>\n",
       "  </tbody>\n",
       "</table>\n",
       "<p>1 rows × 22 columns</p>\n",
       "</div>"
      ],
      "text/plain": [
       "  department_id       1      2       3        4        5              6  \\\n",
       "0    department  frozen  other  bakery  produce  alcohol  international   \n",
       "\n",
       "           7     8                9  ...            12      13         14  \\\n",
       "0  beverages  pets  dry goods pasta  ...  meat seafood  pantry  breakfast   \n",
       "\n",
       "             15          16         17      18      19    20       21  \n",
       "0  canned goods  dairy eggs  household  babies  snacks  deli  missing  \n",
       "\n",
       "[1 rows x 22 columns]"
      ]
     },
     "execution_count": 211,
     "metadata": {},
     "output_type": "execute_result"
    }
   ],
   "source": [
    "# Importing departments data sets\n",
    "pd.read_csv(os.path.join(path, '02 Data','Original Data', 'departments.csv'))"
   ]
  },
  {
   "cell_type": "code",
   "execution_count": 212,
   "id": "8e0d1c29",
   "metadata": {},
   "outputs": [],
   "source": [
    "# Family buying behavior\n",
    "new_final_data.loc[(new_final_data['department_id']==18)&(new_final_data['no_of_dependents']>0),'family_status']='family with babies'"
   ]
  },
  {
   "cell_type": "code",
   "execution_count": 213,
   "id": "4f36b92a",
   "metadata": {
    "scrolled": true
   },
   "outputs": [],
   "source": [
    "new_final_data.loc[(new_final_data['department_id']==8) &(new_final_data['department_id']==18)&(new_final_data['no_of_dependents']>0),'family_status']='family with children with pets'"
   ]
  },
  {
   "cell_type": "code",
   "execution_count": 214,
   "id": "adc980fb",
   "metadata": {},
   "outputs": [],
   "source": [
    "new_final_data.loc[new_final_data['no_of_dependents']==0,'family_status']='family with no babies'"
   ]
  },
  {
   "cell_type": "code",
   "execution_count": 215,
   "id": "86261c20",
   "metadata": {},
   "outputs": [
    {
     "data": {
      "text/plain": [
       "family with no babies    7539213\n",
       "family with babies        301653\n",
       "Name: family_status, dtype: int64"
      ]
     },
     "execution_count": 215,
     "metadata": {},
     "output_type": "execute_result"
    }
   ],
   "source": [
    "# Family buying behavior output\n",
    "new_final_data['family_status'].value_counts()"
   ]
  },
  {
   "cell_type": "markdown",
   "id": "d8ff0f79",
   "metadata": {},
   "source": [
    "## 6. Create an appropriate visualization to show the distribution of profiles."
   ]
  },
  {
   "cell_type": "code",
   "execution_count": 216,
   "id": "727c8043",
   "metadata": {},
   "outputs": [
    {
     "data": {
      "image/png": "[encoded data removed]",
      "text/plain": [
       "<Figure size 640x480 with 1 Axes>"
      ]
     },
     "metadata": {},
     "output_type": "display_data"
    }
   ],
   "source": [
    "# Creating bar graph showing the Family buying behavior\n",
    "buying_behavior=new_final_data['family_status'].value_counts().plot.bar(color=['red','orange','blue'])"
   ]
  },
  {
   "cell_type": "markdown",
   "id": "c583ad4a",
   "metadata": {},
   "source": [
    "#### The graph shows the purchasing behavior of families in Insacart. Most do not have babies by not buying baby products(product_id 18). This group may also have older children, but it is hard to know by not having the age of dependents or other categories/products in our data. "
   ]
  },
  {
   "cell_type": "code",
   "execution_count": 217,
   "id": "77f6d1c1",
   "metadata": {},
   "outputs": [
    {
     "data": {
      "image/png": "[encoded data removed]",
      "text/plain": [
       "<Figure size 640x480 with 1 Axes>"
      ]
     },
     "metadata": {},
     "output_type": "display_data"
    }
   ],
   "source": [
    "# Creating bar graph showing the income by age\n",
    "income_by_age=new_final_data['income_category'].value_counts().plot.bar(color=['green','orange','blue', 'black'])"
   ]
  },
  {
   "cell_type": "code",
   "execution_count": 218,
   "id": "5342df48",
   "metadata": {},
   "outputs": [
    {
     "data": {
      "image/png": "[encoded data removed]",
      "text/plain": [
       "<Figure size 600x600 with 1 Axes>"
      ]
     },
     "metadata": {},
     "output_type": "display_data"
    }
   ],
   "source": [
    "agepie = new_final_data['age_category'].value_counts().plot(kind = 'pie', autopct = '%.2f%%', figsize=(6,6), title = 'Instacart’s users by age', label='', colors =['blue', 'green','yellow', 'orange'])"
   ]
  },
  {
   "cell_type": "markdown",
   "id": "a4691182",
   "metadata": {},
   "source": [
    "## 7. Aggregate the max, mean, and min variables on a customer-profile level for usage frequency and expenditure."
   ]
  },
  {
   "cell_type": "code",
   "execution_count": 219,
   "id": "de3a90cb",
   "metadata": {},
   "outputs": [
    {
     "data": {
      "text/html": [
       "<div>\n",
       "<style scoped>\n",
       "    .dataframe tbody tr th:only-of-type {\n",
       "        vertical-align: middle;\n",
       "    }\n",
       "\n",
       "    .dataframe tbody tr th {\n",
       "        vertical-align: top;\n",
       "    }\n",
       "\n",
       "    .dataframe thead tr th {\n",
       "        text-align: left;\n",
       "    }\n",
       "\n",
       "    .dataframe thead tr:last-of-type th {\n",
       "        text-align: right;\n",
       "    }\n",
       "</style>\n",
       "<table border=\"1\" class=\"dataframe\">\n",
       "  <thead>\n",
       "    <tr>\n",
       "      <th></th>\n",
       "      <th colspan=\"3\" halign=\"left\">income</th>\n",
       "    </tr>\n",
       "    <tr>\n",
       "      <th></th>\n",
       "      <th>mean</th>\n",
       "      <th>min</th>\n",
       "      <th>max</th>\n",
       "    </tr>\n",
       "    <tr>\n",
       "      <th>age_category</th>\n",
       "      <th></th>\n",
       "      <th></th>\n",
       "      <th></th>\n",
       "    </tr>\n",
       "  </thead>\n",
       "  <tbody>\n",
       "    <tr>\n",
       "      <th>middle age adults</th>\n",
       "      <td>104909.405967</td>\n",
       "      <td>25903</td>\n",
       "      <td>592409</td>\n",
       "    </tr>\n",
       "    <tr>\n",
       "      <th>older adults</th>\n",
       "      <td>116169.258456</td>\n",
       "      <td>29001</td>\n",
       "      <td>593901</td>\n",
       "    </tr>\n",
       "    <tr>\n",
       "      <th>senior</th>\n",
       "      <td>115965.954000</td>\n",
       "      <td>29113</td>\n",
       "      <td>579169</td>\n",
       "    </tr>\n",
       "    <tr>\n",
       "      <th>young adults</th>\n",
       "      <td>70690.750438</td>\n",
       "      <td>25911</td>\n",
       "      <td>396364</td>\n",
       "    </tr>\n",
       "  </tbody>\n",
       "</table>\n",
       "</div>"
      ],
      "text/plain": [
       "                          income               \n",
       "                            mean    min     max\n",
       "age_category                                   \n",
       "middle age adults  104909.405967  25903  592409\n",
       "older adults       116169.258456  29001  593901\n",
       "senior             115965.954000  29113  579169\n",
       "young adults        70690.750438  25911  396364"
      ]
     },
     "execution_count": 219,
     "metadata": {},
     "output_type": "execute_result"
    }
   ],
   "source": [
    "new_final_data.groupby('age_category').agg({'income': ['mean','min','max']})"
   ]
  },
  {
   "cell_type": "code",
   "execution_count": 220,
   "id": "17f36625",
   "metadata": {},
   "outputs": [
    {
     "data": {
      "text/html": [
       "<div>\n",
       "<style scoped>\n",
       "    .dataframe tbody tr th:only-of-type {\n",
       "        vertical-align: middle;\n",
       "    }\n",
       "\n",
       "    .dataframe tbody tr th {\n",
       "        vertical-align: top;\n",
       "    }\n",
       "\n",
       "    .dataframe thead tr th {\n",
       "        text-align: left;\n",
       "    }\n",
       "\n",
       "    .dataframe thead tr:last-of-type th {\n",
       "        text-align: right;\n",
       "    }\n",
       "</style>\n",
       "<table border=\"1\" class=\"dataframe\">\n",
       "  <thead>\n",
       "    <tr>\n",
       "      <th></th>\n",
       "      <th colspan=\"3\" halign=\"left\">income</th>\n",
       "    </tr>\n",
       "    <tr>\n",
       "      <th></th>\n",
       "      <th>mean</th>\n",
       "      <th>min</th>\n",
       "      <th>max</th>\n",
       "    </tr>\n",
       "    <tr>\n",
       "      <th>family_status</th>\n",
       "      <th></th>\n",
       "      <th></th>\n",
       "      <th></th>\n",
       "    </tr>\n",
       "  </thead>\n",
       "  <tbody>\n",
       "    <tr>\n",
       "      <th>family with babies</th>\n",
       "      <td>101941.547470</td>\n",
       "      <td>26293</td>\n",
       "      <td>579169</td>\n",
       "    </tr>\n",
       "    <tr>\n",
       "      <th>family with no babies</th>\n",
       "      <td>100015.916102</td>\n",
       "      <td>25903</td>\n",
       "      <td>584097</td>\n",
       "    </tr>\n",
       "  </tbody>\n",
       "</table>\n",
       "</div>"
      ],
      "text/plain": [
       "                              income               \n",
       "                                mean    min     max\n",
       "family_status                                      \n",
       "family with babies     101941.547470  26293  579169\n",
       "family with no babies  100015.916102  25903  584097"
      ]
     },
     "execution_count": 220,
     "metadata": {},
     "output_type": "execute_result"
    }
   ],
   "source": [
    "new_final_data.groupby('family_status').agg({'income': ['mean','min','max']})"
   ]
  },
  {
   "cell_type": "markdown",
   "id": "cf547a76",
   "metadata": {},
   "source": [
    "## 8. Compare your customer profiles with regions and departments. Can you identify a link between them? Customers may demonstrate different behaviors across regions, which could make this information important"
   ]
  },
  {
   "cell_type": "code",
   "execution_count": 221,
   "id": "2b7f136f",
   "metadata": {},
   "outputs": [],
   "source": [
    "#crosstab customer family status by region\n",
    "crosstab_fam_status=pd.crosstab(new_final_data['region'],new_final_data['family_status'],dropna=False)"
   ]
  },
  {
   "cell_type": "code",
   "execution_count": 222,
   "id": "7cd0af47",
   "metadata": {},
   "outputs": [
    {
     "data": {
      "text/html": [
       "<div>\n",
       "<style scoped>\n",
       "    .dataframe tbody tr th:only-of-type {\n",
       "        vertical-align: middle;\n",
       "    }\n",
       "\n",
       "    .dataframe tbody tr th {\n",
       "        vertical-align: top;\n",
       "    }\n",
       "\n",
       "    .dataframe thead th {\n",
       "        text-align: right;\n",
       "    }\n",
       "</style>\n",
       "<table border=\"1\" class=\"dataframe\">\n",
       "  <thead>\n",
       "    <tr style=\"text-align: right;\">\n",
       "      <th>family_status</th>\n",
       "      <th>family with babies</th>\n",
       "      <th>family with no babies</th>\n",
       "    </tr>\n",
       "    <tr>\n",
       "      <th>region</th>\n",
       "      <th></th>\n",
       "      <th></th>\n",
       "    </tr>\n",
       "  </thead>\n",
       "  <tbody>\n",
       "    <tr>\n",
       "      <th>Midwest</th>\n",
       "      <td>69849</td>\n",
       "      <td>1773970</td>\n",
       "    </tr>\n",
       "    <tr>\n",
       "      <th>Northeast</th>\n",
       "      <td>53641</td>\n",
       "      <td>1317139</td>\n",
       "    </tr>\n",
       "    <tr>\n",
       "      <th>South</th>\n",
       "      <td>102348</td>\n",
       "      <td>2516780</td>\n",
       "    </tr>\n",
       "    <tr>\n",
       "      <th>West</th>\n",
       "      <td>75815</td>\n",
       "      <td>1931324</td>\n",
       "    </tr>\n",
       "  </tbody>\n",
       "</table>\n",
       "</div>"
      ],
      "text/plain": [
       "family_status  family with babies  family with no babies\n",
       "region                                                  \n",
       "Midwest                     69849                1773970\n",
       "Northeast                   53641                1317139\n",
       "South                      102348                2516780\n",
       "West                        75815                1931324"
      ]
     },
     "execution_count": 222,
     "metadata": {},
     "output_type": "execute_result"
    }
   ],
   "source": [
    "crosstab_fam_status"
   ]
  },
  {
   "cell_type": "code",
   "execution_count": 223,
   "id": "fa838b57",
   "metadata": {},
   "outputs": [],
   "source": [
    "crosstab_age_category=pd.crosstab(new_final_data['region'],new_final_data['age_category'],dropna=False)"
   ]
  },
  {
   "cell_type": "code",
   "execution_count": 224,
   "id": "bed1a607",
   "metadata": {},
   "outputs": [
    {
     "data": {
      "text/html": [
       "<div>\n",
       "<style scoped>\n",
       "    .dataframe tbody tr th:only-of-type {\n",
       "        vertical-align: middle;\n",
       "    }\n",
       "\n",
       "    .dataframe tbody tr th {\n",
       "        vertical-align: top;\n",
       "    }\n",
       "\n",
       "    .dataframe thead th {\n",
       "        text-align: right;\n",
       "    }\n",
       "</style>\n",
       "<table border=\"1\" class=\"dataframe\">\n",
       "  <thead>\n",
       "    <tr style=\"text-align: right;\">\n",
       "      <th>age_category</th>\n",
       "      <th>middle age adults</th>\n",
       "      <th>older adults</th>\n",
       "      <th>senior</th>\n",
       "      <th>young adults</th>\n",
       "    </tr>\n",
       "    <tr>\n",
       "      <th>region</th>\n",
       "      <th></th>\n",
       "      <th></th>\n",
       "      <th></th>\n",
       "      <th></th>\n",
       "    </tr>\n",
       "  </thead>\n",
       "  <tbody>\n",
       "    <tr>\n",
       "      <th>Midwest</th>\n",
       "      <td>2269962</td>\n",
       "      <td>2170662</td>\n",
       "      <td>548618</td>\n",
       "      <td>1864934</td>\n",
       "    </tr>\n",
       "    <tr>\n",
       "      <th>Northeast</th>\n",
       "      <td>1634817</td>\n",
       "      <td>1672182</td>\n",
       "      <td>427052</td>\n",
       "      <td>1433702</td>\n",
       "    </tr>\n",
       "    <tr>\n",
       "      <th>South</th>\n",
       "      <td>3129884</td>\n",
       "      <td>3089586</td>\n",
       "      <td>798174</td>\n",
       "      <td>2715576</td>\n",
       "    </tr>\n",
       "    <tr>\n",
       "      <th>West</th>\n",
       "      <td>2431793</td>\n",
       "      <td>2414729</td>\n",
       "      <td>602898</td>\n",
       "      <td>2035554</td>\n",
       "    </tr>\n",
       "  </tbody>\n",
       "</table>\n",
       "</div>"
      ],
      "text/plain": [
       "age_category  middle age adults  older adults  senior  young adults\n",
       "region                                                             \n",
       "Midwest                 2269962       2170662  548618       1864934\n",
       "Northeast               1634817       1672182  427052       1433702\n",
       "South                   3129884       3089586  798174       2715576\n",
       "West                    2431793       2414729  602898       2035554"
      ]
     },
     "execution_count": 224,
     "metadata": {},
     "output_type": "execute_result"
    }
   ],
   "source": [
    "crosstab_age_category"
   ]
  },
  {
   "cell_type": "markdown",
   "id": "e47aad7e",
   "metadata": {},
   "source": [
    "## 9. Produce suitable charts to illustrate your results and export them in your project folder."
   ]
  },
  {
   "cell_type": "code",
   "execution_count": 225,
   "id": "45fa66fb",
   "metadata": {},
   "outputs": [
    {
     "data": {
      "text/plain": [
       "Text(0.5, 0, 'Region')"
      ]
     },
     "execution_count": 225,
     "metadata": {},
     "output_type": "execute_result"
    },
    {
     "data": {
      "image/png": "[encoded data removed]",
      "text/plain": [
       "<Figure size 1000x1000 with 1 Axes>"
      ]
     },
     "metadata": {},
     "output_type": "display_data"
    }
   ],
   "source": [
    "# Creating bar chart of family status and region\n",
    "fam_status_bar = crosstab_fam_status.plot(kind = 'bar', color=['blue','red', 'yellow', 'orange'], figsize=(10,10))\n",
    "\n",
    "plt.title('Customers Status by Region', fontsize=14)\n",
    "plt.xlabel('Region')"
   ]
  },
  {
   "cell_type": "code",
   "execution_count": 226,
   "id": "f07f88e1",
   "metadata": {},
   "outputs": [
    {
     "data": {
      "text/plain": [
       "Text(0.5, 0, 'Region')"
      ]
     },
     "execution_count": 226,
     "metadata": {},
     "output_type": "execute_result"
    },
    {
     "data": {
      "image/png": "[encoded data removed]",
      "text/plain": [
       "<Figure size 1000x1000 with 1 Axes>"
      ]
     },
     "metadata": {},
     "output_type": "display_data"
    }
   ],
   "source": [
    "# Creating bar chart of age and region\n",
    "age_status_bar = crosstab_age_category.plot(kind = 'bar', color=['blue','red', 'yellow', 'orange'], figsize=(10,10))\n",
    "\n",
    "plt.title('Customers Age by Region', fontsize=14)\n",
    "plt.xlabel('Region')"
   ]
  },
  {
   "cell_type": "code",
   "execution_count": 227,
   "id": "8e6c48ef",
   "metadata": {},
   "outputs": [
    {
     "data": {
      "text/plain": [
       "Text(0.5, 0, 'Age Category')"
      ]
     },
     "execution_count": 227,
     "metadata": {},
     "output_type": "execute_result"
    },
    {
     "data": {
      "image/png": "[encoded data removed]",
      "text/plain": [
       "<Figure size 1000x1000 with 1 Axes>"
      ]
     },
     "metadata": {},
     "output_type": "display_data"
    }
   ],
   "source": [
    "# creating stacked bar chart of age category and region\n",
    "age_category_bar2 = crosstab_age_category.plot(kind = 'bar', color=['blue','green', 'red', 'orange'], stacked = True, figsize=(10,10))\n",
    "\n",
    "plt.title('Fraction of Customers by Region and Age', fontsize=14)\n",
    "plt.xlabel('Age Category')"
   ]
  },
  {
   "cell_type": "code",
   "execution_count": 228,
   "id": "bd63b321",
   "metadata": {},
   "outputs": [],
   "source": [
    "# creating crosstab of department and workstatus\n",
    "age_depart = pd.crosstab(new_final_data['department_id'], new_final_data['age_category'], dropna= False)"
   ]
  },
  {
   "cell_type": "code",
   "execution_count": 229,
   "id": "4bee8d2d",
   "metadata": {},
   "outputs": [
    {
     "data": {
      "text/html": [
       "<div>\n",
       "<style scoped>\n",
       "    .dataframe tbody tr th:only-of-type {\n",
       "        vertical-align: middle;\n",
       "    }\n",
       "\n",
       "    .dataframe tbody tr th {\n",
       "        vertical-align: top;\n",
       "    }\n",
       "\n",
       "    .dataframe thead th {\n",
       "        text-align: right;\n",
       "    }\n",
       "</style>\n",
       "<table border=\"1\" class=\"dataframe\">\n",
       "  <thead>\n",
       "    <tr style=\"text-align: right;\">\n",
       "      <th>age_category</th>\n",
       "      <th>middle age adults</th>\n",
       "      <th>older adults</th>\n",
       "      <th>senior</th>\n",
       "      <th>young adults</th>\n",
       "    </tr>\n",
       "    <tr>\n",
       "      <th>department_id</th>\n",
       "      <th></th>\n",
       "      <th></th>\n",
       "      <th></th>\n",
       "      <th></th>\n",
       "    </tr>\n",
       "  </thead>\n",
       "  <tbody>\n",
       "    <tr>\n",
       "      <th>1</th>\n",
       "      <td>643894</td>\n",
       "      <td>639177</td>\n",
       "      <td>164326</td>\n",
       "      <td>547658</td>\n",
       "    </tr>\n",
       "    <tr>\n",
       "      <th>2</th>\n",
       "      <td>10453</td>\n",
       "      <td>10196</td>\n",
       "      <td>2526</td>\n",
       "      <td>9121</td>\n",
       "    </tr>\n",
       "    <tr>\n",
       "      <th>3</th>\n",
       "      <td>342543</td>\n",
       "      <td>337375</td>\n",
       "      <td>86693</td>\n",
       "      <td>291915</td>\n",
       "    </tr>\n",
       "    <tr>\n",
       "      <th>4</th>\n",
       "      <td>2783549</td>\n",
       "      <td>2750032</td>\n",
       "      <td>700540</td>\n",
       "      <td>2357769</td>\n",
       "    </tr>\n",
       "    <tr>\n",
       "      <th>5</th>\n",
       "      <td>43389</td>\n",
       "      <td>42699</td>\n",
       "      <td>10331</td>\n",
       "      <td>37909</td>\n",
       "    </tr>\n",
       "    <tr>\n",
       "      <th>6</th>\n",
       "      <td>78595</td>\n",
       "      <td>75717</td>\n",
       "      <td>19665</td>\n",
       "      <td>66842</td>\n",
       "    </tr>\n",
       "    <tr>\n",
       "      <th>7</th>\n",
       "      <td>787156</td>\n",
       "      <td>783337</td>\n",
       "      <td>196547</td>\n",
       "      <td>662348</td>\n",
       "    </tr>\n",
       "    <tr>\n",
       "      <th>8</th>\n",
       "      <td>27622</td>\n",
       "      <td>27933</td>\n",
       "      <td>7603</td>\n",
       "      <td>24705</td>\n",
       "    </tr>\n",
       "    <tr>\n",
       "      <th>9</th>\n",
       "      <td>250146</td>\n",
       "      <td>246686</td>\n",
       "      <td>62608</td>\n",
       "      <td>212903</td>\n",
       "    </tr>\n",
       "    <tr>\n",
       "      <th>10</th>\n",
       "      <td>10166</td>\n",
       "      <td>10035</td>\n",
       "      <td>2594</td>\n",
       "      <td>8921</td>\n",
       "    </tr>\n",
       "    <tr>\n",
       "      <th>11</th>\n",
       "      <td>130579</td>\n",
       "      <td>127872</td>\n",
       "      <td>31858</td>\n",
       "      <td>108325</td>\n",
       "    </tr>\n",
       "    <tr>\n",
       "      <th>12</th>\n",
       "      <td>203937</td>\n",
       "      <td>205308</td>\n",
       "      <td>52319</td>\n",
       "      <td>173738</td>\n",
       "    </tr>\n",
       "    <tr>\n",
       "      <th>13</th>\n",
       "      <td>542524</td>\n",
       "      <td>538952</td>\n",
       "      <td>135276</td>\n",
       "      <td>461887</td>\n",
       "    </tr>\n",
       "    <tr>\n",
       "      <th>14</th>\n",
       "      <td>205100</td>\n",
       "      <td>200106</td>\n",
       "      <td>51378</td>\n",
       "      <td>176232</td>\n",
       "    </tr>\n",
       "    <tr>\n",
       "      <th>15</th>\n",
       "      <td>307633</td>\n",
       "      <td>303942</td>\n",
       "      <td>77172</td>\n",
       "      <td>263637</td>\n",
       "    </tr>\n",
       "    <tr>\n",
       "      <th>16</th>\n",
       "      <td>1582376</td>\n",
       "      <td>1562182</td>\n",
       "      <td>393786</td>\n",
       "      <td>1358467</td>\n",
       "    </tr>\n",
       "    <tr>\n",
       "      <th>17</th>\n",
       "      <td>213345</td>\n",
       "      <td>210696</td>\n",
       "      <td>54240</td>\n",
       "      <td>179237</td>\n",
       "    </tr>\n",
       "    <tr>\n",
       "      <th>18</th>\n",
       "      <td>131955</td>\n",
       "      <td>122571</td>\n",
       "      <td>30522</td>\n",
       "      <td>104827</td>\n",
       "    </tr>\n",
       "    <tr>\n",
       "      <th>19</th>\n",
       "      <td>846161</td>\n",
       "      <td>829726</td>\n",
       "      <td>214727</td>\n",
       "      <td>724809</td>\n",
       "    </tr>\n",
       "    <tr>\n",
       "      <th>20</th>\n",
       "      <td>305701</td>\n",
       "      <td>303640</td>\n",
       "      <td>77238</td>\n",
       "      <td>261376</td>\n",
       "    </tr>\n",
       "    <tr>\n",
       "      <th>21</th>\n",
       "      <td>19632</td>\n",
       "      <td>18977</td>\n",
       "      <td>4793</td>\n",
       "      <td>17140</td>\n",
       "    </tr>\n",
       "  </tbody>\n",
       "</table>\n",
       "</div>"
      ],
      "text/plain": [
       "age_category   middle age adults  older adults  senior  young adults\n",
       "department_id                                                       \n",
       "1                         643894        639177  164326        547658\n",
       "2                          10453         10196    2526          9121\n",
       "3                         342543        337375   86693        291915\n",
       "4                        2783549       2750032  700540       2357769\n",
       "5                          43389         42699   10331         37909\n",
       "6                          78595         75717   19665         66842\n",
       "7                         787156        783337  196547        662348\n",
       "8                          27622         27933    7603         24705\n",
       "9                         250146        246686   62608        212903\n",
       "10                         10166         10035    2594          8921\n",
       "11                        130579        127872   31858        108325\n",
       "12                        203937        205308   52319        173738\n",
       "13                        542524        538952  135276        461887\n",
       "14                        205100        200106   51378        176232\n",
       "15                        307633        303942   77172        263637\n",
       "16                       1582376       1562182  393786       1358467\n",
       "17                        213345        210696   54240        179237\n",
       "18                        131955        122571   30522        104827\n",
       "19                        846161        829726  214727        724809\n",
       "20                        305701        303640   77238        261376\n",
       "21                         19632         18977    4793         17140"
      ]
     },
     "execution_count": 229,
     "metadata": {},
     "output_type": "execute_result"
    }
   ],
   "source": [
    "age_depart"
   ]
  },
  {
   "cell_type": "code",
   "execution_count": 230,
   "id": "a4cdd7a4",
   "metadata": {},
   "outputs": [],
   "source": [
    "# Importing data\n",
    "products = pd.read_csv(os.path.join(path, '02 Data','Prepared Data', 'department_wrangled.csv'))"
   ]
  },
  {
   "cell_type": "code",
   "execution_count": 231,
   "id": "3c308685",
   "metadata": {},
   "outputs": [
    {
     "data": {
      "text/html": [
       "<div>\n",
       "<style scoped>\n",
       "    .dataframe tbody tr th:only-of-type {\n",
       "        vertical-align: middle;\n",
       "    }\n",
       "\n",
       "    .dataframe tbody tr th {\n",
       "        vertical-align: top;\n",
       "    }\n",
       "\n",
       "    .dataframe thead th {\n",
       "        text-align: right;\n",
       "    }\n",
       "</style>\n",
       "<table border=\"1\" class=\"dataframe\">\n",
       "  <thead>\n",
       "    <tr style=\"text-align: right;\">\n",
       "      <th></th>\n",
       "      <th>Unnamed: 0</th>\n",
       "      <th>department</th>\n",
       "    </tr>\n",
       "  </thead>\n",
       "  <tbody>\n",
       "    <tr>\n",
       "      <th>0</th>\n",
       "      <td>1</td>\n",
       "      <td>frozen</td>\n",
       "    </tr>\n",
       "    <tr>\n",
       "      <th>1</th>\n",
       "      <td>2</td>\n",
       "      <td>other</td>\n",
       "    </tr>\n",
       "    <tr>\n",
       "      <th>2</th>\n",
       "      <td>3</td>\n",
       "      <td>bakery</td>\n",
       "    </tr>\n",
       "    <tr>\n",
       "      <th>3</th>\n",
       "      <td>4</td>\n",
       "      <td>produce</td>\n",
       "    </tr>\n",
       "    <tr>\n",
       "      <th>4</th>\n",
       "      <td>5</td>\n",
       "      <td>alcohol</td>\n",
       "    </tr>\n",
       "    <tr>\n",
       "      <th>5</th>\n",
       "      <td>6</td>\n",
       "      <td>international</td>\n",
       "    </tr>\n",
       "    <tr>\n",
       "      <th>6</th>\n",
       "      <td>7</td>\n",
       "      <td>beverages</td>\n",
       "    </tr>\n",
       "    <tr>\n",
       "      <th>7</th>\n",
       "      <td>8</td>\n",
       "      <td>pets</td>\n",
       "    </tr>\n",
       "    <tr>\n",
       "      <th>8</th>\n",
       "      <td>9</td>\n",
       "      <td>dry goods pasta</td>\n",
       "    </tr>\n",
       "    <tr>\n",
       "      <th>9</th>\n",
       "      <td>10</td>\n",
       "      <td>bulk</td>\n",
       "    </tr>\n",
       "    <tr>\n",
       "      <th>10</th>\n",
       "      <td>11</td>\n",
       "      <td>personal care</td>\n",
       "    </tr>\n",
       "    <tr>\n",
       "      <th>11</th>\n",
       "      <td>12</td>\n",
       "      <td>meat seafood</td>\n",
       "    </tr>\n",
       "    <tr>\n",
       "      <th>12</th>\n",
       "      <td>13</td>\n",
       "      <td>pantry</td>\n",
       "    </tr>\n",
       "    <tr>\n",
       "      <th>13</th>\n",
       "      <td>14</td>\n",
       "      <td>breakfast</td>\n",
       "    </tr>\n",
       "    <tr>\n",
       "      <th>14</th>\n",
       "      <td>15</td>\n",
       "      <td>canned goods</td>\n",
       "    </tr>\n",
       "    <tr>\n",
       "      <th>15</th>\n",
       "      <td>16</td>\n",
       "      <td>dairy eggs</td>\n",
       "    </tr>\n",
       "    <tr>\n",
       "      <th>16</th>\n",
       "      <td>17</td>\n",
       "      <td>household</td>\n",
       "    </tr>\n",
       "    <tr>\n",
       "      <th>17</th>\n",
       "      <td>18</td>\n",
       "      <td>babies</td>\n",
       "    </tr>\n",
       "    <tr>\n",
       "      <th>18</th>\n",
       "      <td>19</td>\n",
       "      <td>snacks</td>\n",
       "    </tr>\n",
       "    <tr>\n",
       "      <th>19</th>\n",
       "      <td>20</td>\n",
       "      <td>deli</td>\n",
       "    </tr>\n",
       "    <tr>\n",
       "      <th>20</th>\n",
       "      <td>21</td>\n",
       "      <td>missing</td>\n",
       "    </tr>\n",
       "  </tbody>\n",
       "</table>\n",
       "</div>"
      ],
      "text/plain": [
       "    Unnamed: 0       department\n",
       "0            1           frozen\n",
       "1            2            other\n",
       "2            3           bakery\n",
       "3            4          produce\n",
       "4            5          alcohol\n",
       "5            6    international\n",
       "6            7        beverages\n",
       "7            8             pets\n",
       "8            9  dry goods pasta\n",
       "9           10             bulk\n",
       "10          11    personal care\n",
       "11          12     meat seafood\n",
       "12          13           pantry\n",
       "13          14        breakfast\n",
       "14          15     canned goods\n",
       "15          16       dairy eggs\n",
       "16          17        household\n",
       "17          18           babies\n",
       "18          19           snacks\n",
       "19          20             deli\n",
       "20          21          missing"
      ]
     },
     "execution_count": 231,
     "metadata": {},
     "output_type": "execute_result"
    }
   ],
   "source": [
    "products.head(22)"
   ]
  },
  {
   "cell_type": "code",
   "execution_count": 232,
   "id": "3b20a0d1",
   "metadata": {},
   "outputs": [
    {
     "data": {
      "text/plain": [
       "Text(0.5, 0, 'Departments_ids')"
      ]
     },
     "execution_count": 232,
     "metadata": {},
     "output_type": "execute_result"
    },
    {
     "data": {
      "image/png": "[encoded data removed]",
      "text/plain": [
       "<Figure size 1000x1000 with 1 Axes>"
      ]
     },
     "metadata": {},
     "output_type": "display_data"
    }
   ],
   "source": [
    "# Creating stacked bar chart of age category and departments_ids\n",
    "age_depart_stacked = age_depart.plot(kind='bar', color=['green', 'deeppink', 'orange','blue'], stacked = True, figsize=(10,10))\n",
    "plt.title('Fraction of Departments by Age Category', fontsize=14)\n",
    "plt.xlabel('Departments_ids')"
   ]
  },
  {
   "cell_type": "markdown",
   "id": "1c66d1a0",
   "metadata": {},
   "source": [
    "#### Exporting graphs"
   ]
  },
  {
   "cell_type": "code",
   "execution_count": 233,
   "id": "2db5b192",
   "metadata": {},
   "outputs": [],
   "source": [
    "# Exporting buying behavior visualization\n",
    "buying_behavior.figure.savefig(os.path.join(path, '04 Analysis', 'Visualizations', 'Final Task', 'buying_behavior.png'))"
   ]
  },
  {
   "cell_type": "code",
   "execution_count": 234,
   "id": "f2456283",
   "metadata": {},
   "outputs": [],
   "source": [
    "# Exporting income by age visualization\n",
    "income_by_age.figure.savefig(os.path.join(path, '04 Analysis', 'Visualizations', 'Final Task', 'income_by_age.png'))"
   ]
  },
  {
   "cell_type": "code",
   "execution_count": 235,
   "id": "89c04e05",
   "metadata": {},
   "outputs": [],
   "source": [
    "# Exporting age pie visualization\n",
    "agepie.figure.savefig(os.path.join(path, '04 Analysis', 'Visualizations', 'Final Task', 'age_pie.png'))"
   ]
  },
  {
   "cell_type": "code",
   "execution_count": 236,
   "id": "04b06c8c",
   "metadata": {},
   "outputs": [],
   "source": [
    "# Exporting family status visualization\n",
    "fam_status_bar.figure.savefig(os.path.join(path, '04 Analysis', 'Visualizations', 'Final Task', 'fam_status_bar.png'))"
   ]
  },
  {
   "cell_type": "code",
   "execution_count": 237,
   "id": "d88f45f1",
   "metadata": {},
   "outputs": [],
   "source": [
    "# Exporting age status visualization\n",
    "age_status_bar.figure.savefig(os.path.join(path, '04 Analysis', 'Visualizations', 'Final Task', 'age_status_bar_region.png'))"
   ]
  },
  {
   "cell_type": "code",
   "execution_count": 238,
   "id": "6f4166d5",
   "metadata": {},
   "outputs": [],
   "source": [
    "# Exporting family status visulization\n",
    "age_category_bar2.figure.savefig(os.path.join(path, '04 Analysis', 'Visualizations', 'Final Task', 'age_category_bar2_region.png'))"
   ]
  },
  {
   "cell_type": "code",
   "execution_count": 239,
   "id": "770b5f72",
   "metadata": {},
   "outputs": [],
   "source": [
    "# Exporting family status visuliz\n",
    "age_depart_stacked.figure.savefig(os.path.join(path, '04 Analysis', 'Visualizations', 'Final Task', 'age_depart_stacked_region.png'))"
   ]
  },
  {
   "cell_type": "markdown",
   "id": "3b8a0ca9",
   "metadata": {},
   "source": [
    "## Tidy up your script, export your final data set, and save your notebook."
   ]
  },
  {
   "cell_type": "code",
   "execution_count": 240,
   "id": "4fe092c0",
   "metadata": {},
   "outputs": [],
   "source": [
    "new_final_data.to_pickle(os.path.join(path, '02 Data', 'Prepared Data', 'Task_10_final.pkl'))"
   ]
  },
  {
   "cell_type": "code",
   "execution_count": null,
   "id": "07c7abd9",
   "metadata": {},
   "outputs": [],
   "source": []
  }
 ],
 "metadata": {
  "kernelspec": {
   "display_name": "Python 3 (ipykernel)",
   "language": "python",
   "name": "python3"
  },
  "language_info": {
   "codemirror_mode": {
    "name": "ipython",
    "version": 3
   },
   "file_extension": ".py",
   "mimetype": "text/x-python",
   "name": "python",
   "nbconvert_exporter": "python",
   "pygments_lexer": "ipython3",
   "version": "3.9.13"
  }
 },
 "nbformat": 4,
 "nbformat_minor": 5
}
