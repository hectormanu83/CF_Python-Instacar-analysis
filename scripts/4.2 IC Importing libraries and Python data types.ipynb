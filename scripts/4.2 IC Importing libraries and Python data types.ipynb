{
 "cells": [
  {
   "cell_type": "markdown",
   "id": "ff03a9c6",
   "metadata": {},
   "source": [
    "# Import Libraries"
   ]
  },
  {
   "cell_type": "code",
   "execution_count": 2,
   "id": "e5f07871",
   "metadata": {},
   "outputs": [],
   "source": [
    "# Import Libraries\n",
    "import pandas as pd\n",
    "import numpy as np\n",
    "import os"
   ]
  },
  {
   "cell_type": "markdown",
   "id": "0d04ea93",
   "metadata": {},
   "source": [
    "# Python data types"
   ]
  },
  {
   "cell_type": "markdown",
   "id": "846fa2c4",
   "metadata": {},
   "source": [
    "## Code 3 different ways of reaching a result of 100"
   ]
  },
  {
   "cell_type": "code",
   "execution_count": 3,
   "id": "067d88dc",
   "metadata": {},
   "outputs": [],
   "source": [
    "x=50"
   ]
  },
  {
   "cell_type": "code",
   "execution_count": 4,
   "id": "06fb889b",
   "metadata": {},
   "outputs": [],
   "source": [
    "y=50"
   ]
  },
  {
   "cell_type": "code",
   "execution_count": 6,
   "id": "75d9e406",
   "metadata": {},
   "outputs": [
    {
     "data": {
      "text/plain": [
       "100"
      ]
     },
     "execution_count": 6,
     "metadata": {},
     "output_type": "execute_result"
    }
   ],
   "source": [
    "y + x"
   ]
  },
  {
   "cell_type": "code",
   "execution_count": 7,
   "id": "049489c8",
   "metadata": {},
   "outputs": [
    {
     "data": {
      "text/plain": [
       "100"
      ]
     },
     "execution_count": 7,
     "metadata": {},
     "output_type": "execute_result"
    }
   ],
   "source": [
    "50 + 50"
   ]
  },
  {
   "cell_type": "code",
   "execution_count": 8,
   "id": "3297292f",
   "metadata": {},
   "outputs": [
    {
     "data": {
      "text/plain": [
       "100"
      ]
     },
     "execution_count": 8,
     "metadata": {},
     "output_type": "execute_result"
    }
   ],
   "source": [
    "200 - 100"
   ]
  },
  {
   "cell_type": "code",
   "execution_count": 9,
   "id": "fc7de042",
   "metadata": {},
   "outputs": [
    {
     "data": {
      "text/plain": [
       "True"
      ]
     },
     "execution_count": 9,
     "metadata": {},
     "output_type": "execute_result"
    }
   ],
   "source": [
    "y + x == 100"
   ]
  },
  {
   "cell_type": "markdown",
   "id": "74a8c45f",
   "metadata": {},
   "source": [
    "## Code 2 floating-point variables and divide them by each other."
   ]
  },
  {
   "cell_type": "code",
   "execution_count": 10,
   "id": "b9d7acb8",
   "metadata": {},
   "outputs": [],
   "source": [
    "x = 5.4"
   ]
  },
  {
   "cell_type": "code",
   "execution_count": 11,
   "id": "033ef59f",
   "metadata": {},
   "outputs": [],
   "source": [
    "y = 5.2"
   ]
  },
  {
   "cell_type": "code",
   "execution_count": 12,
   "id": "8249ec43",
   "metadata": {},
   "outputs": [
    {
     "data": {
      "text/plain": [
       "0.9629629629629629"
      ]
     },
     "execution_count": 12,
     "metadata": {},
     "output_type": "execute_result"
    }
   ],
   "source": [
    "y / x"
   ]
  },
  {
   "cell_type": "markdown",
   "id": "691bd185",
   "metadata": {},
   "source": [
    "## Construct a short word made of separate strings (you’ll need to concatenate some strings!)."
   ]
  },
  {
   "cell_type": "code",
   "execution_count": 41,
   "id": "bb7b588e",
   "metadata": {},
   "outputs": [],
   "source": [
    "a= 'Mexico '"
   ]
  },
  {
   "cell_type": "code",
   "execution_count": 42,
   "id": "b26fe371",
   "metadata": {},
   "outputs": [],
   "source": [
    "b= ' played really bad '"
   ]
  },
  {
   "cell_type": "code",
   "execution_count": 43,
   "id": "d34a5b94",
   "metadata": {},
   "outputs": [],
   "source": [
    "c= ' against Messi'"
   ]
  },
  {
   "cell_type": "code",
   "execution_count": 46,
   "id": "ca077e2b",
   "metadata": {},
   "outputs": [],
   "source": [
    "c= 'this world cup '"
   ]
  },
  {
   "cell_type": "code",
   "execution_count": 47,
   "id": "3fa9e381",
   "metadata": {},
   "outputs": [
    {
     "name": "stdout",
     "output_type": "stream",
     "text": [
      "Mexico  played really bad this world cup against Messi\n"
     ]
    }
   ],
   "source": [
    "print(a + b + c + d)"
   ]
  },
  {
   "cell_type": "markdown",
   "id": "b1fc6090",
   "metadata": {},
   "source": [
    "## At the bottom of your file, include a command that makes a string appear 100 times.\n",
    "\n"
   ]
  },
  {
   "cell_type": "code",
   "execution_count": 51,
   "id": "fc1e02cf",
   "metadata": {},
   "outputs": [],
   "source": [
    "a = 'rock'"
   ]
  },
  {
   "cell_type": "code",
   "execution_count": 52,
   "id": "0b4ae95e",
   "metadata": {},
   "outputs": [
    {
     "data": {
      "text/plain": [
       "'rockrockrockrockrockrockrockrockrockrockrockrockrockrockrockrockrockrockrockrockrockrockrockrockrockrockrockrockrockrockrockrockrockrockrockrockrockrockrockrockrockrockrockrockrockrockrockrockrockrockrockrockrockrockrockrockrockrockrockrockrockrockrockrockrockrockrockrockrockrockrockrockrockrockrockrockrockrockrockrockrockrockrockrockrockrockrockrockrockrockrockrockrockrockrockrockrockrockrockrock'"
      ]
     },
     "execution_count": 52,
     "metadata": {},
     "output_type": "execute_result"
    }
   ],
   "source": [
    "a * 100"
   ]
  },
  {
   "cell_type": "code",
   "execution_count": null,
   "id": "c7c11afe",
   "metadata": {},
   "outputs": [],
   "source": []
  }
 ],
 "metadata": {
  "kernelspec": {
   "display_name": "Python 3 (ipykernel)",
   "language": "python",
   "name": "python3"
  },
  "language_info": {
   "codemirror_mode": {
    "name": "ipython",
    "version": 3
   },
   "file_extension": ".py",
   "mimetype": "text/x-python",
   "name": "python",
   "nbconvert_exporter": "python",
   "pygments_lexer": "ipython3",
   "version": "3.9.13"
  }
 },
 "nbformat": 4,
 "nbformat_minor": 5
}
